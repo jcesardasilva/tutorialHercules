{
 "cells": [
  {
   "cell_type": "markdown",
   "metadata": {},
   "source": [
    "# Tutorial PXCT data analysis (Extra)- HERCULES school 2021\n",
    "\n",
    "### Tutor: Julio C. da Silva (Néel Institute CNRS, Grenoble, France) \n",
    "### email: julio-cesar.da-silva@neel.cnrs.fr\n",
    "#### Personal webpage: https://sites.google.com/view/jcesardasilva\n",
    "\n",
    "### <span style=\"color:red\">** Disclaimer: This notebook is intended from educational reasons only.**</span>\n",
    "<span style=\"color:red\">**Warning: You should have completed parts 1 and 2 before starting part 3**</span>"
   ]
  },
  {
   "cell_type": "markdown",
   "metadata": {},
   "source": [
    "<table class=\"tfo-notebook-buttons\" align=\"center\">\n",
    "\n",
    "  <td>\n",
    "    <a target=\"_blank\" rel=\"noopener noreferrer\"\n",
    "href=\"https://mybinder.org/v2/gh/jcesardasilva/tutorialHercules.git/HEAD\"><img src=\"https://mybinder.org/static/images/logo_social.png\" height=\"52\" width=\"62\"/>Run in MyBinder.org</a>\n",
    "  </td>\n",
    "    \n",
    "  <td>\n",
    "    <a target=\"_blank\" rel=\"noopener noreferrer\" href=\"https://colab.research.google.com/github/jcesardasilva/tutorialHercules/blob/master/PXCT/PXCT_pipeline_extra.ipynb\"><img src=\"https://www.tensorflow.org/images/colab_logo_32px.png\" />Run in Google Colab</a>\n",
    "  </td>\n",
    "    \n",
    "  <td>\n",
    "    <a target=\"_blank\" rel=\"noopener noreferrer\"\n",
    "href=\"https://jupyter-slurm.esrf.fr/\"><img src=\"https://upload.wikimedia.org/wikipedia/fr/thumb/3/37/ESRF_-_Grenoble.png/280px-ESRF_-_Grenoble.png\" height=\"40\" width=\"40\"/>Run in Jupyter-Slurm at ESRF (needs login)</a>\n",
    "  </td>\n",
    "    \n",
    "  <td>\n",
    "    <a target=\"_blank\" rel=\"noopener noreferrer\" href=\"https://github.com/jcesardasilva/tutorialHercules.git\"><img src=\"https://www.tensorflow.org/images/GitHub-Mark-32px.png\" />View source on GitHub</a>\n",
    "   </td>\n",
    "    \n",
    "</table>"
   ]
  },
  {
   "cell_type": "markdown",
   "metadata": {},
   "source": [
    "#### Importing packages again\n",
    "Since we start a new notebook, we need to import the packages again:"
   ]
  },
  {
   "cell_type": "code",
   "execution_count": null,
   "metadata": {},
   "outputs": [],
   "source": [
    "%matplotlib ipympl\n",
    "# standard packages\n",
    "import time\n",
    "import warnings\n",
    "warnings.filterwarnings('ignore')\n",
    "# third party packages\n",
    "import ipympl\n",
    "from IPython import display\n",
    "import matplotlib.pyplot as plt\n",
    "import numpy as np\n",
    "import toupy"
   ]
  },
  {
   "cell_type": "markdown",
   "metadata": {},
   "source": [
    "#### Let us reload our data \n",
    "We do this the same way we did in Part 2, but we only change the filename to `PXCTalignedprojections.npz`:"
   ]
  },
  {
   "cell_type": "code",
   "execution_count": null,
   "metadata": {},
   "outputs": [],
   "source": [
    "fname = 'PXCTalignedprojections.npz'\n",
    "data_dict = np.load(fname) # load the file\n",
    "list(data_dict.files) # this one list the keys of the data dictionary extracted from the file\n",
    "wavelen = data_dict['wavelen']\n",
    "pixsize = data_dict['psize']\n",
    "theta = data_dict['theta']\n",
    "projections = data_dict['projections'] # <- ATTENTION: this one is memory consuming. \n",
    "nproj, nr, nc = projections.shape\n",
    "delta_theta = np.diff(theta)\n",
    "\n",
    "print(f\"The total number of projections is {nproj}\")\n",
    "print(f\"The angular sampling interval is {delta_theta[0]:.02f} degrees\")\n",
    "print(f\"The projection pixel size of the projections is {pixsize/1e-9:.02f} nm\")\n",
    "print(f\"The wavelenth of the incoming photons is {wavelen/1e-10:.02f} Angstroms\")"
   ]
  },
  {
   "cell_type": "markdown",
   "metadata": {},
   "source": [
    "Let us take a look at one projection. I will select the first and last ones,i.e. at angles 0 and 180-$\\Delta\\theta$ degress:"
   ]
  },
  {
   "cell_type": "code",
   "execution_count": null,
   "metadata": {},
   "outputs": [],
   "source": [
    "plt.close('all')\n",
    "fig1 = plt.figure(1,figsize=(7,3))\n",
    "ax1 = fig1.add_subplot(121)\n",
    "im1 = ax1.imshow(projections[0],cmap='bone',vmin=-0.15,vmax=0.15)\n",
    "ax1.set_title('Phase proj. at 0 degrees',fontsize = 14)\n",
    "#cax = divider.append_axes('right', size='5%', pad=0.05)\n",
    "#fig1.colorbar(im1,cax=cax)\n",
    "ax2 = fig1.add_subplot(122)\n",
    "im2 = ax2.imshow(projections[-1],cmap='bone',vmin=-0.15,vmax=0.15)\n",
    "ax2.set_title('Phase proj. at (180-3.2) degrees',fontsize = 14)\n",
    "plt.tight_layout()\n",
    "display.display(plt.gcf())\n",
    "display.clear_output(wait=True)"
   ]
  },
  {
   "cell_type": "markdown",
   "metadata": {},
   "source": [
    "## Advanced Mode: the spatial resolution estimate by Fourier Shell Correlation\n",
    "In case you want to try to estimate the **spatial resolution** of the reconstructed slice, you can proceed to the next step. This part is memory and CPU-intensive and very time-consuming. \n",
    "\n",
    "<span style=\"color:red\">**Proceed at your own responsibility**</span>"
   ]
  },
  {
   "cell_type": "code",
   "execution_count": null,
   "metadata": {},
   "outputs": [],
   "source": [
    "from toupy.resolution import FSCPlot, compute_2tomograms_splitted, split_dataset\n",
    "from toupy.utils import sort_array, progbar\n",
    "from toupy.tomo import tomo_recons"
   ]
  },
  {
   "cell_type": "code",
   "execution_count": null,
   "metadata": {},
   "outputs": [],
   "source": [
    "# initializing params\n",
    "params = dict()\n",
    "\n",
    "# =========================\n",
    "# Edit session\n",
    "# =========================\n",
    "params[\"slicenum\"] = 200  # Choose the slice\n",
    "params[\"limsyFSC\"] = [100, 300]  # number of slices for the 3D FSC\n",
    "params[\"filtertype\"] = \"hann\"  # Filter to use for FBP\n",
    "params[\"freqcutoff\"] = 1.0  # Frequency cutoff (between 0 and 1)\n",
    "params[\"circle\"] = True\n",
    "params[\"algorithm\"] = \"FBP\"  # FBP or SART\n",
    "params[\"derivatives\"] = True  # only for FBP\n",
    "params[\"calc_derivatives\"] = False  # Calculate derivatives if not done\n",
    "params[\"opencl\"] = False  # enable reconstruction with Silx and openCL\n",
    "params[\"apod_width\"] = 50  # apodization width in pixels\n",
    "params[\"thick_ring\"] = 4  # number of pixel to average each FRC ring\n",
    "params[\"crop\"] = None #[1465, 1865, 935, 1335]  # [top, bottom, left, right]\n",
    "params[\"vmin_plot\"] = None  # 0.5e-5\n",
    "params[\"vmax_plot\"] = None  # None\n",
    "params[\"colormap\"] = \"bone\"  # colormap to show images\n",
    "# ========================="
   ]
  },
  {
   "cell_type": "code",
   "execution_count": null,
   "metadata": {},
   "outputs": [],
   "source": [
    "# sorting theta\n",
    "print(\"Sorting theta and projections accordingly.\")\n",
    "projections, theta = sort_array(projections, theta)\n",
    "ntheta = theta.shape[0]\n",
    "# convinient change of variables\n",
    "slice_num = params[\"slicenum\"]\n",
    "vmin_plot = params[\"vmin_plot\"]\n",
    "vmax_plot = params[\"vmax_plot\"]\n",
    "limsyFSC = params[\"limsyFSC\"]\n",
    "nslices = limsyFSC[-1] - limsyFSC[0]\n",
    "nprojs, nr, nc = projections.shape"
   ]
  },
  {
   "cell_type": "code",
   "execution_count": null,
   "metadata": {},
   "outputs": [],
   "source": [
    "# initializing variables\n",
    "tomogram1 = np.empty((nslices, nc, nc))\n",
    "tomogram2 = np.empty((nslices, nc, nc))\n",
    "sinogramempty = np.empty_like(np.transpose(projections[:, 0, :]))\n",
    "sino1nr, sino1nc = sinogramempty.shape\n",
    "sino2nr, sino2nc = sino1nr, sino1nc\n",
    "sinogram1 = np.empty((nslices, sino1nr, int(sino1nc/2)))\n",
    "sinogram2 = np.empty((nslices, sino2nr, int(sino2nc/2)))"
   ]
  },
  {
   "cell_type": "code",
   "execution_count": null,
   "metadata": {},
   "outputs": [],
   "source": [
    "# splitting the sinograms\n",
    "for idx, ii in enumerate(range(limsyFSC[0], limsyFSC[-1])):\n",
    "    strbar = \"Sinogram for slice: {}\".format(ii)\n",
    "    sinogram = np.transpose(projections[:, ii, :])\n",
    "    sinogram1[idx], sinogram2[idx], theta1, theta2 = split_dataset(\n",
    "        sinogram, theta\n",
    "    )\n",
    "    progbar(idx + 1, nslices, strbar)"
   ]
  },
  {
   "cell_type": "code",
   "execution_count": null,
   "metadata": {},
   "outputs": [],
   "source": [
    "# calculating the 2 tomograms\n",
    "for idx, ii in enumerate(range(limsyFSC[0], limsyFSC[-1])):\n",
    "    strbar = \"Slice {}\".format(ii)\n",
    "    # dividing the data into two datasets and computing tomograms\n",
    "    tomogram1[idx], tomogram2[idx] = compute_2tomograms_splitted(\n",
    "        sinogram1[idx], sinogram2[idx], theta1, theta2, ** params\n",
    "    )\n",
    "    progbar(idx + 1, nslices, strbar)"
   ]
  },
  {
   "cell_type": "code",
   "execution_count": null,
   "metadata": {},
   "outputs": [],
   "source": [
    "# 3D FSC\n",
    "print(\"Estimating the resolution by 3D FSC...\")\n",
    "FSC3D = FSCPlot(\n",
    "    tomogram1,\n",
    "    tomogram2,\n",
    "    \"halfbit\",\n",
    "    params[\"thick_ring\"],\n",
    "    apod_width=params[\"apod_width\"],\n",
    ")"
   ]
  },
  {
   "cell_type": "code",
   "execution_count": null,
   "metadata": {},
   "outputs": [],
   "source": [
    "# Display the FSC curve\n",
    "normfreqs, T, FSC3Dcurve = FSC3D.plot()\n",
    "plt.grid()\n",
    "plt.xticks(np.arange(0, 1.0, 0.1));\n",
    "display.display(plt.gcf())"
   ]
  },
  {
   "cell_type": "markdown",
   "metadata": {},
   "source": [
    "###### Let us zoom in into the intersection to see it better"
   ]
  },
  {
   "cell_type": "code",
   "execution_count": null,
   "metadata": {},
   "outputs": [],
   "source": [
    "#zooming in into the FSC curve\n",
    "#plt.close('all')\n",
    "plt.figure(figsize = (6,4))\n",
    "plt.plot(normfreqs,T,'r--', label='1/2 bit threshold')\n",
    "plt.plot(normfreqs,FSC3Dcurve,'b-', label='1/2 bit threshold')\n",
    "plt.grid()\n",
    "plt.xticks(np.arange(0, 1.0, 0.005));\n",
    "plt.xlim([0.71,0.75])\n",
    "plt.ylim([0.14,0.21])\n",
    "display.display(plt.gcf())\n",
    "display.clear_output(wait=True)"
   ]
  },
  {
   "cell_type": "code",
   "execution_count": null,
   "metadata": {},
   "outputs": [],
   "source": [
    "print(\"The voxelsize of the data is {:.02f} nm\".format(pixsize * 1e9))\n",
    "a = input(\"\\nPlease, input the value of the intersection: \")\n",
    "params[\"resolution3D\"] = pixsize * 1e9 / float(a)\n",
    "print(\"------------------------------------------\")\n",
    "print(\n",
    "    \"| Resolution is estimated to be {:.2f} nm |\".format(params[\"resolution3D\"])\n",
    ")\n",
    "print(\"------------------------------------------\")"
   ]
  },
  {
   "cell_type": "markdown",
   "metadata": {},
   "source": [
    "## Congratulations! You finished the tutorial with success."
   ]
  }
 ],
 "metadata": {
  "kernelspec": {
   "display_name": "Python 3",
   "language": "python",
   "name": "python3"
  },
  "language_info": {
   "codemirror_mode": {
    "name": "ipython",
    "version": 3
   },
   "file_extension": ".py",
   "mimetype": "text/x-python",
   "name": "python",
   "nbconvert_exporter": "python",
   "pygments_lexer": "ipython3",
   "version": "3.9.2"
  }
 },
 "nbformat": 4,
 "nbformat_minor": 4
}
