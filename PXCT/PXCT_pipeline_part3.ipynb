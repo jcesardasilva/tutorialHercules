{
 "cells": [
  {
   "cell_type": "markdown",
   "metadata": {},
   "source": [
    "# Tutorial PXCT data analysis (PART 3)- HERCULES school 2021\n",
    "\n",
    "### Tutor: Julio C. da Silva (Néel Institute CNRS, Grenoble, France) \n",
    "### email: julio-cesar.da-silva@neel.cnrs.fr\n",
    "#### Personal webpage: https://sites.google.com/view/jcesardasilva\n",
    "\n",
    "### <span style=\"color:red\">** Disclaimer: This notebook is intended from educational reasons only.**</span>\n",
    "<span style=\"color:red\">**Warning: You should have completed parts 1 and 2 before starting part 3**</span>"
   ]
  },
  {
   "cell_type": "markdown",
   "metadata": {},
   "source": [
    "<table class=\"tfo-notebook-buttons\" align=\"center\">\n",
    "\n",
    "  <td>\n",
    "    <a target=\"_blank\" rel=\"noopener noreferrer\"\n",
    "href=\"https://mybinder.org/v2/gh/jcesardasilva/tutorialHercules.git/HEAD\"><img src=\"https://mybinder.org/static/images/logo_social.png\" height=\"52\" width=\"62\"/>Run in MyBinder.org</a>\n",
    "  </td>\n",
    "    \n",
    "  <td>\n",
    "    <a target=\"_blank\" rel=\"noopener noreferrer\" href=\"https://colab.research.google.com/github/jcesardasilva/tutorialHercules/blob/master/PXCT/PXCT_pipeline_part3.ipynb\"><img src=\"https://www.tensorflow.org/images/colab_logo_32px.png\" />Run in Google Colab</a>\n",
    "  </td>\n",
    "    \n",
    "  <td>\n",
    "    <a target=\"_blank\" rel=\"noopener noreferrer\"\n",
    "href=\"https://jupyter-slurm.esrf.fr/\"><img src=\"https://upload.wikimedia.org/wikipedia/fr/thumb/3/37/ESRF_-_Grenoble.png/280px-ESRF_-_Grenoble.png\" height=\"40\" width=\"40\"/>Run in Jupyter-Slurm at ESRF (needs login)</a>\n",
    "  </td>\n",
    "    \n",
    "  <td>\n",
    "    <a target=\"_blank\" rel=\"noopener noreferrer\" href=\"https://github.com/jcesardasilva/tutorialHercules.git\"><img src=\"https://www.tensorflow.org/images/GitHub-Mark-32px.png\" />View source on GitHub</a>\n",
    "   </td>\n",
    "    \n",
    "</table>"
   ]
  },
  {
   "cell_type": "markdown",
   "metadata": {},
   "source": [
    "#### Importing packages again\n",
    "Since we start a new notebook, we need to import the packages again:"
   ]
  },
  {
   "cell_type": "code",
   "execution_count": null,
   "metadata": {},
   "outputs": [],
   "source": [
    "#%matplotlib ipympl\n",
    "# standard packages\n",
    "import time\n",
    "import warnings\n",
    "warnings.filterwarnings('ignore')\n",
    "# third party packages\n",
    "import ipympl\n",
    "from IPython import display\n",
    "import matplotlib.pyplot as plt\n",
    "import numpy as np\n",
    "import toupy"
   ]
  },
  {
   "cell_type": "markdown",
   "metadata": {},
   "source": [
    "#### Let us reload our data \n",
    "We do this the same way we did in Part 2, but we only change the filename to `PXCTalignedprojections.npz`:"
   ]
  },
  {
   "cell_type": "code",
   "execution_count": null,
   "metadata": {},
   "outputs": [],
   "source": [
    "fname = 'PXCTalignedprojections.npz'\n",
    "data_dict = np.load(fname) # load the file\n",
    "list(data_dict.files) # this one list the keys of the data dictionary extracted from the file\n",
    "wavelen = data_dict['wavelen']\n",
    "pixsize = data_dict['psize']\n",
    "theta = data_dict['theta']\n",
    "projections = data_dict['projections'] # <- ATTENTION: this one is memory consuming. \n",
    "nproj, nr, nc = projections.shape\n",
    "delta_theta = np.diff(theta)\n",
    "\n",
    "print(f\"The total number of projections is {nproj}\")\n",
    "print(f\"The angular sampling interval is {delta_theta[0]:.02f} degrees\")\n",
    "print(f\"The projection pixel size of the projections is {pixsize/1e-9:.02f} nm\")\n",
    "print(f\"The wavelenth of the incoming photons is {wavelen/1e-10:.02f} Angstroms\")"
   ]
  },
  {
   "cell_type": "markdown",
   "metadata": {},
   "source": [
    "Let us take a look at one projection. I will select the first and last ones,i.e. at angles 0 and 180-$\\Delta\\theta$ degress:"
   ]
  },
  {
   "cell_type": "code",
   "execution_count": null,
   "metadata": {},
   "outputs": [],
   "source": [
    "plt.close('all')\n",
    "fig1 = plt.figure(1,figsize=(7,3))\n",
    "ax1 = fig1.add_subplot(121)\n",
    "im1 = ax1.imshow(projections[0],cmap='bone',vmin=-0.15,vmax=0.15)\n",
    "ax1.set_title('Phase proj. at 0 degrees',fontsize = 14)\n",
    "#cax = divider.append_axes('right', size='5%', pad=0.05)\n",
    "#fig1.colorbar(im1,cax=cax)\n",
    "ax2 = fig1.add_subplot(122)\n",
    "im2 = ax2.imshow(projections[-1],cmap='bone',vmin=-0.15,vmax=0.15)\n",
    "ax2.set_title('Phase proj. at (180-3.2) degrees',fontsize = 14)\n",
    "plt.tight_layout()\n",
    "display.display(plt.gcf())\n",
    "display.clear_output(wait=True)"
   ]
  },
  {
   "cell_type": "markdown",
   "metadata": {},
   "source": [
    "### The tomographic reconstruction\n",
    "Congratulations! You finally arrive to the tomographic reconstruction step of the entire volume.\n",
    "\n",
    "<span style=\"color:red\">**Warning: This part is time and memory consuming**</span>. This could be optimized by, for example, implementing the reconstruction on a GPU card or distributing the reconstruction of a group of slices accross different CPU cores. Since our goal here is learning, we will stick to the reconstruction using a CPU only."
   ]
  },
  {
   "cell_type": "code",
   "execution_count": null,
   "metadata": {},
   "outputs": [],
   "source": [
    "# import the toupy routines we will need\n",
    "from toupy.tomo import full_tomo_recons"
   ]
  },
  {
   "cell_type": "markdown",
   "metadata": {},
   "source": [
    "Let us create a dictionary of parameters:"
   ]
  },
  {
   "cell_type": "code",
   "execution_count": null,
   "metadata": {},
   "outputs": [],
   "source": [
    "params = dict() # initializing dictionary\n",
    "params[\"slicenum\"] = 200  # Choose the slice for the initial reconstruction\n",
    "params[\"filtertype\"] = \"ram-lak\" # options: `ram-lak`, `shepp-logan`, `cosine`, `hamming`,`hann`, None (no filter).\n",
    "params[\"freqcutoff\"] = 1.0  # Frequency cutoff (between 0 and 1)\n",
    "params[\"circle\"] = True \n",
    "params[\"algorithm\"] = \"FBP\"  # FBP or SART\n",
    "params[\"derivatives\"] = True  # To use the derivatives of the projections\n",
    "params[\"calc_derivatives\"] = False  # Calculate derivatives if not done\n",
    "params[\"cliplow\"] = None  # clip air threshold\n",
    "params[\"cliphigh\"] = -1e-4  # clip on sample threshold\n",
    "params[\"autosave\"] = False\n",
    "params[\"vmin_plot\"] = None  # 0.5e-5\n",
    "params[\"vmax_plot\"] = -1e-4  # None\n",
    "params[\"colormap\"] = \"bone\"\n",
    "params[\"showrecons\"] = False  # to display the reconstructed slice on the fly."
   ]
  },
  {
   "cell_type": "markdown",
   "metadata": {},
   "source": [
    "And now, we start the reconstruction:"
   ]
  },
  {
   "cell_type": "code",
   "execution_count": null,
   "metadata": {},
   "outputs": [],
   "source": [
    "tomogram = full_tomo_recons(projections, theta, **params)"
   ]
  },
  {
   "cell_type": "markdown",
   "metadata": {},
   "source": [
    "#### Orthogonal view of the reconstructed volume\n",
    "Let us display three orthogonal view of the reconstructed volume"
   ]
  },
  {
   "cell_type": "code",
   "execution_count": null,
   "metadata": {},
   "outputs": [],
   "source": [
    "# third packages\n",
    "import matplotlib.pyplot as plt\n",
    "import matplotlib.patches as patches\n",
    "import numpy as np\n",
    "# import the toupy routines we will need\n",
    "from toupy.utils import convert_to_delta, progbar"
   ]
  },
  {
   "cell_type": "markdown",
   "metadata": {},
   "source": [
    "The gray level of the reconstructed slices are given in units of phase-shifts. Let us now convert phase-shifts to $\\delta$ , where $\\delta$ is the refractive index decrement and the refractive index is $n=1-\\delta+i\\beta$."
   ]
  },
  {
   "cell_type": "code",
   "execution_count": null,
   "metadata": {},
   "outputs": [],
   "source": [
    "nslices, nr, nc = tomogram.shape\n",
    "energy = 12.4e-10/wavelen\n",
    "voxelsize = pixsize\n",
    "print(f\"The energy of the incident photons is {energy:.02f} keV\")\n",
    "print(f\"The voxel size of the reconstructed volume is {voxelsize/1e-9:.02f} nm\")\n",
    "print(f\"The dimensions of the reconstructed volume is {tomogram.shape} (height,width,depth)\")"
   ]
  },
  {
   "cell_type": "code",
   "execution_count": null,
   "metadata": {},
   "outputs": [],
   "source": [
    "params[\"slicenum\"] = 150\n",
    "params[\"vmin_plot\"] = 2e-6  # None\n",
    "params[\"vmax_plot\"] = 2e-5  # 5e-4\n",
    "params[\"scale_bar_size\"] = 2  # in microns\n",
    "params[\"scale_bar_height\"] = 0.4\n",
    "params[\"scale_bar_color\"] = \"yellow\"\n",
    "params[\"bar_start\"] = [20, 70]\n",
    "params[\"bar_axial\"] = [70, 100]  # [cols,rows]\n",
    "params[\"colormap\"] = \"bone\"\n",
    "params[\"interpolation\"] = \"nearest\""
   ]
  },
  {
   "cell_type": "markdown",
   "metadata": {},
   "source": [
    "Conversion of the gray-level of the slices from phase-shifts to delta:"
   ]
  },
  {
   "cell_type": "code",
   "execution_count": null,
   "metadata": {},
   "outputs": [],
   "source": [
    "# loop over the tomogram\n",
    "for ii in range(nslices):\n",
    "    strbar = \"Slice {} out of {}\".format(ii + 1, nslices)\n",
    "    tomogram[ii], factor = convert_to_delta(tomogram[ii], energy, voxelsize)\n",
    "    progbar(ii + 1, nslices, strbar)\n",
    "print(\"\\r\")"
   ]
  },
  {
   "cell_type": "markdown",
   "metadata": {},
   "source": [
    "Preparing the Sagital, Coronal, and Axial slices:"
   ]
  },
  {
   "cell_type": "code",
   "execution_count": null,
   "metadata": {},
   "outputs": [],
   "source": [
    "# text style for the scale bar text\n",
    "textstr = r\"{} $\\mu$m\".format(params[\"scale_bar_size\"])\n",
    "\n",
    "# sagital slice\n",
    "slicesag = np.s_[:, np.round(nr / 2).astype(\"int\"), :]\n",
    "sagital_slice = tomogram[slicesag]\n",
    "# coronal slice\n",
    "slicecor = np.s_[:, :, np.round(nc / 2).astype(\"int\")]\n",
    "coronal_slice = tomogram[slicecor]\n",
    "# axial slice\n",
    "axial_slice = tomogram[params[\"slicenum\"]]"
   ]
  },
  {
   "cell_type": "markdown",
   "metadata": {},
   "source": [
    "Displaying:"
   ]
  },
  {
   "cell_type": "code",
   "execution_count": null,
   "metadata": {},
   "outputs": [],
   "source": [
    "# display the figures\n",
    "%matplotlib inline\n",
    "##### Sagital slice\n",
    "figsag = plt.figure(num=1, figsize=(12,5))\n",
    "axsag = figsag.add_subplot(111)\n",
    "imsag = axsag.imshow(\n",
    "    sagital_slice,\n",
    "    interpolation=params['interpolation'],\n",
    "    cmap=params[\"colormap\"],\n",
    "    vmin=params[\"vmin_plot\"],\n",
    "    vmax=params[\"vmax_plot\"],\n",
    ")\n",
    "figsag.colorbar(imsag)\n",
    "axsag.set_title(\"Sagital slice\")\n",
    "axsag.text(\n",
    "    params[\"bar_start\"][0] + 2,\n",
    "    params[\"bar_start\"][1] - 5,\n",
    "    textstr,\n",
    "    fontsize=14,\n",
    "    verticalalignment=\"bottom\",\n",
    "    color=params[\"scale_bar_color\"],\n",
    ")\n",
    "rectsag = patches.Rectangle(\n",
    "    (params[\"bar_start\"][0], params[\"bar_start\"][1]),  # (x,y)\n",
    "    (np.round(params[\"scale_bar_size\"] * 1e-6 / voxelsize)),  # width\n",
    "    (np.round(params[\"scale_bar_height\"] * 1e-6 / voxelsize)),  # height\n",
    "    color=params[\"scale_bar_color\"],\n",
    ")\n",
    "axsag.add_patch(rectsag)\n",
    "axsag.set_axis_off()\n",
    "plt.tight_layout()\n",
    "#display.display(plt.gcf())\n",
    "#display.clear_output(wait=True)\n",
    "\n",
    "###### Coronal slice\n",
    "figcor = plt.figure(num=2, figsize=(12,5))\n",
    "axcor = figcor.add_subplot(111)\n",
    "imcor = axcor.imshow(\n",
    "    coronal_slice,\n",
    "    interpolation=params['interpolation'],\n",
    "    cmap=params[\"colormap\"],\n",
    "    vmin=params[\"vmin_plot\"],\n",
    "    vmax=params[\"vmax_plot\"],\n",
    ")\n",
    "figcor.colorbar(imcor)\n",
    "axcor.set_title(\"Coronal slice\")\n",
    "axcor.text(\n",
    "    params[\"bar_start\"][0] + 2,\n",
    "    params[\"bar_start\"][1] - 5,\n",
    "    textstr,\n",
    "    fontsize=14,\n",
    "    verticalalignment=\"bottom\",\n",
    "    color=params[\"scale_bar_color\"],\n",
    ")\n",
    "rectcor = patches.Rectangle(\n",
    "    (params[\"bar_start\"][0], params[\"bar_start\"][1]),  # (x,y)\n",
    "    (np.round(params[\"scale_bar_size\"] * 1e-6 / voxelsize)),  # width\n",
    "    (np.round(params[\"scale_bar_height\"] * 1e-6 / voxelsize)),  # height\n",
    "    color=params[\"scale_bar_color\"],\n",
    ")\n",
    "axcor.add_patch(rectcor)\n",
    "axcor.set_axis_off()\n",
    "plt.tight_layout()\n",
    "#display.display(plt.gcf())\n",
    "#display.clear_output(wait=True)\n",
    "\n",
    "###### Axial slice\n",
    "figaxial = plt.figure(num=3, figsize=(16,7))\n",
    "axaxial = figaxial.add_subplot(111)\n",
    "imaxial = axaxial.imshow(\n",
    "    axial_slice,\n",
    "    interpolation=params['interpolation'],\n",
    "    cmap=params[\"colormap\"],\n",
    "    vmin=params[\"vmin_plot\"],\n",
    "    vmax=params[\"vmax_plot\"],\n",
    ")\n",
    "figaxial.colorbar(imaxial)\n",
    "axaxial.set_title(\"Axial slice {}\".format(params[\"slicenum\"] + 1))\n",
    "axaxial.text(\n",
    "    params[\"bar_axial\"][0] + 2,\n",
    "    params[\"bar_axial\"][1] - 5,\n",
    "    textstr,\n",
    "    fontsize=14,\n",
    "    verticalalignment=\"bottom\",\n",
    "    color=params[\"scale_bar_color\"],\n",
    ")\n",
    "rectaxial = patches.Rectangle(\n",
    "    (params[\"bar_axial\"][0], params[\"bar_axial\"][1]),  # (x,y)\n",
    "    (np.round(params[\"scale_bar_size\"] * 1e-6 / voxelsize)),  # width\n",
    "    (np.round(params[\"scale_bar_height\"] * 1e-6 / voxelsize)),  # height\n",
    "    color=params[\"scale_bar_color\"],\n",
    ")\n",
    "axaxial.add_patch(rectaxial)\n",
    "axaxial.set_axis_off()\n",
    "#display.display(plt.gcf())\n",
    "#display.clear_output(wait=True)"
   ]
  },
  {
   "cell_type": "code",
   "execution_count": null,
   "metadata": {},
   "outputs": [],
   "source": [
    "outputfname = \"PXCTtomogram.npz\"\n",
    "np.savez(outputfname, wavelen = wavelen, energy=energy, voxelsize = voxelsize, tomogram_delta = tomogram)"
   ]
  },
  {
   "cell_type": "code",
   "execution_count": null,
   "metadata": {},
   "outputs": [],
   "source": [
    "!ls -lrth"
   ]
  },
  {
   "cell_type": "code",
   "execution_count": null,
   "metadata": {},
   "outputs": [],
   "source": []
  }
 ],
 "metadata": {
  "kernelspec": {
   "display_name": "Python 3 (ipykernel)",
   "language": "python",
   "name": "python3"
  },
  "language_info": {
   "codemirror_mode": {
    "name": "ipython",
    "version": 3
   },
   "file_extension": ".py",
   "mimetype": "text/x-python",
   "name": "python",
   "nbconvert_exporter": "python",
   "pygments_lexer": "ipython3",
   "version": "3.9.10"
  }
 },
 "nbformat": 4,
 "nbformat_minor": 4
}
