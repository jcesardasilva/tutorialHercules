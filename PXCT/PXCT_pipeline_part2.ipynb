{
 "cells": [
  {
   "cell_type": "markdown",
   "metadata": {},
   "source": [
    "# Tutorial PXCT data analysis (PART 2)- HERCULES school 2021\n",
    "\n",
    "### Tutor: Julio C. da Silva (Néel Institute CNRS, Grenoble, France) \n",
    "### email: julio-cesar.da-silva@neel.cnrs.fr\n",
    "#### Personal webpage: https://sites.google.com/view/jcesardasilva\n",
    "\n",
    "### <span style=\"color:red\">** Disclaimer: This notebook is intended from educational reasons only.**</span>\n",
    "<span style=\"color:red\">**Warning: You should have completed part 1 before starting part 2**</span>"
   ]
  },
  {
   "cell_type": "markdown",
   "metadata": {},
   "source": [
    "<table class=\"tfo-notebook-buttons\" align=\"center\">\n",
    "\n",
    "  <td>\n",
    "    <a target=\"_blank\" rel=\"noopener noreferrer\"\n",
    "href=\"https://mybinder.org/v2/gh/jcesardasilva/tutorialHercules.git/HEAD\"><img src=\"https://mybinder.org/static/images/logo_social.png\" height=\"52\" width=\"62\"/>Run in MyBinder.org</a>\n",
    "  </td>\n",
    "    \n",
    "  <td>\n",
    "    <a target=\"_blank\" rel=\"noopener noreferrer\" href=\"https://colab.research.google.com/github/jcesardasilva/tutorialHercules/blob/master/PXCT/PXCT_pipeline_part2.ipynb\"><img src=\"https://www.tensorflow.org/images/colab_logo_32px.png\" />Run in Google Colab</a>\n",
    "  </td>\n",
    "    \n",
    "  <td>\n",
    "    <a target=\"_blank\" rel=\"noopener noreferrer\"\n",
    "href=\"https://jupyter-slurm.esrf.fr/\"><img src=\"https://upload.wikimedia.org/wikipedia/fr/thumb/3/37/ESRF_-_Grenoble.png/280px-ESRF_-_Grenoble.png\" height=\"40\" width=\"40\"/>Run in Jupyter-Slurm at ESRF (needs login)</a>\n",
    "  </td>\n",
    "    \n",
    "  <td>\n",
    "    <a target=\"_blank\" rel=\"noopener noreferrer\" href=\"https://github.com/jcesardasilva/tutorialHercules.git\"><img src=\"https://www.tensorflow.org/images/GitHub-Mark-32px.png\" />View source on GitHub</a>\n",
    "   </td>\n",
    "    \n",
    "</table>"
   ]
  },
  {
   "cell_type": "markdown",
   "metadata": {},
   "source": [
    "#### Importing packages again\n",
    "Since we start a new notebook, we need to import the packages again:"
   ]
  },
  {
   "cell_type": "code",
   "execution_count": null,
   "metadata": {
    "tags": []
   },
   "outputs": [],
   "source": [
    "#%matplotlib ipympl\n",
    "# standard packages\n",
    "import time\n",
    "import warnings\n",
    "warnings.filterwarnings('ignore')\n",
    "# third party packages\n",
    "import ipympl\n",
    "from IPython import display\n",
    "import matplotlib.pyplot as plt\n",
    "import numpy as np\n",
    "import toupy"
   ]
  },
  {
   "cell_type": "markdown",
   "metadata": {},
   "source": [
    "#### Let us reload our data \n",
    "We do this the same way we did in Part 1, but we only change the filename to `PXCTcorrprojections.npz`:"
   ]
  },
  {
   "cell_type": "code",
   "execution_count": null,
   "metadata": {
    "tags": []
   },
   "outputs": [],
   "source": [
    "fname = 'PXCTcorrprojections.npz'\n",
    "data_dict = np.load(fname) # load the file\n",
    "list(data_dict.files) # this one list the keys of the data dictionary extracted from the file\n",
    "wavelen = data_dict['wavelen']\n",
    "pixsize = data_dict['psize']\n",
    "theta = data_dict['theta']\n",
    "projections = data_dict['projections'].astype(np.float32) # <- ATTENTION: this one is memory consuming. \n",
    "nproj, nr, nc = projections.shape\n",
    "delta_theta = np.diff(theta)\n",
    "\n",
    "print(f\"The total number of projections is {nproj}\")\n",
    "print(f\"The angular sampling interval is {delta_theta[0]:.02f} degrees\")\n",
    "print(f\"The projection pixel size of the projections is {pixsize/1e-9:.02f} nm\")\n",
    "print(f\"The wavelenth of the incoming photons is {wavelen/1e-10:.02f} Angstroms\")"
   ]
  },
  {
   "cell_type": "markdown",
   "metadata": {},
   "source": [
    "Let us take a look at one projection. I will select the first and last ones,i.e. at angles 0 and 180-$\\Delta\\theta$ degress:"
   ]
  },
  {
   "cell_type": "code",
   "execution_count": null,
   "metadata": {
    "tags": []
   },
   "outputs": [],
   "source": [
    "plt.close('all')\n",
    "fig1 = plt.figure(1,figsize=(10,4))\n",
    "ax1 = fig1.add_subplot(121)\n",
    "im1 = ax1.imshow(projections[0],cmap='bone',vmin=-4,vmax=1)\n",
    "ax1.set_title('Phase proj. at 0 degrees',fontsize = 14)\n",
    "#cax = divider.append_axes('right', size='5%', pad=0.05)\n",
    "#fig1.colorbar(im1,cax=cax)\n",
    "ax2 = fig1.add_subplot(122)\n",
    "im2 = ax2.imshow(projections[-1],cmap='bone',vmin=-4,vmax=1)\n",
    "ax2.set_title('Phase proj. at (180-0.4) degrees',fontsize = 14)\n",
    "#display.display(fig1)"
   ]
  },
  {
   "cell_type": "markdown",
   "metadata": {},
   "source": [
    "### Alignment of the tomographic projections\n",
    "Great! Now that we have the projections corrected by the linear phase ramp and all unwrapped, we can start the alignment of the projections (registration in the language of digital signal processing). \n",
    "\n",
    "We will do it in the vertical and horizontal direction \"independently\", starting with the vertical alignment. "
   ]
  },
  {
   "cell_type": "markdown",
   "metadata": {},
   "source": [
    "#### Vertical alignment"
   ]
  },
  {
   "cell_type": "markdown",
   "metadata": {},
   "source": [
    "The vertical alignment is performed based on the **Helgason-Ludwig consistency condition**. This is basically the Plancherel’s theorem for the Radon transform and states that the integral of any projection along horizontal directions is independent of the angle θ. "
   ]
  },
  {
   "cell_type": "code",
   "execution_count": null,
   "metadata": {
    "tags": []
   },
   "outputs": [],
   "source": [
    "# import the toupy routines we will need\n",
    "from toupy.registration import alignprojections_vertical"
   ]
  },
  {
   "cell_type": "markdown",
   "metadata": {},
   "source": [
    "This step requires a certain number of parameters. For this reason, let us create a dictionary of parameters:"
   ]
  },
  {
   "cell_type": "code",
   "execution_count": null,
   "metadata": {
    "tags": []
   },
   "outputs": [],
   "source": [
    "params = dict() # initializing dictionary\n",
    "params[\"pixtol\"] = 0.1  # Tolerance of registration in pixels (E.g. 0.1 means 1/10 of pixel)\n",
    "params[\"polyorder\"] = 2  # Polynomial order to remove bias (E.g. 2 means 2nd order polynomial)\n",
    "params[\"shiftmeth\"] = \"linear\" # \"linear\" = bilinear interpolation or \"fourier\" = shift in the Fourier space\n",
    "params[\"maxit\"] = 10  # max of iterations\n",
    "params[\"deltax\"] = 20  # From edge of region to edge of image in x\n",
    "params[\"limsy\"] = (70, 200) # Vertical extend of the region to be considered in the alignment"
   ]
  },
  {
   "cell_type": "markdown",
   "metadata": {},
   "source": [
    "Now that we have the parameters set, let us start the alignment. For we need to create an array which will keep the shifts to be applied to the projections in order to align them. This array, `shiftproj` which have a shape as `(2,nproj)`. Thus, `shiftproj[0]` will contain the shifts for the vertical diretions whereas `shiftproj[1]` will contains the shifts for the horizontal direction."
   ]
  },
  {
   "cell_type": "code",
   "execution_count": null,
   "metadata": {
    "tags": []
   },
   "outputs": [],
   "source": [
    "# initializing shiftstack with zeros\n",
    "shiftproj = np.zeros((2,nproj))\n",
    "print(f\"The shape of shifproj is {shiftproj.shape}\")"
   ]
  },
  {
   "cell_type": "code",
   "execution_count": null,
   "metadata": {
    "tags": []
   },
   "outputs": [],
   "source": [
    "shiftproj, valignproj = alignprojections_vertical(projections,shiftproj,**params)"
   ]
  },
  {
   "cell_type": "markdown",
   "metadata": {},
   "source": [
    "#### Let us take a look at the resulting alignment"
   ]
  },
  {
   "cell_type": "code",
   "execution_count": null,
   "metadata": {
    "tags": []
   },
   "outputs": [],
   "source": [
    "#-------\n",
    "# you can put here the projections you want to display\n",
    "disp = [300,329] # starts at index 0.\n",
    "#-------\n",
    "# preparing figure canvas\n",
    "plt.close('all')\n",
    "fig3 = plt.figure(3, figsize = (10,4))\n",
    "ax31 = fig3.add_subplot(121)\n",
    "im31 = ax31.imshow(projections[0],cmap='bone', vmin = -4, vmax = 1)\n",
    "ax31.set_title('Projection number 1', fontsize = 16)\n",
    "ax32 = fig3.add_subplot(122)\n",
    "im32 = ax32.imshow(valignproj[0],cmap='bone', vmin = -4, vmax = 1)\n",
    "ax32.set_title('Vert. aligned projec. number 1', fontsize = 16)\n",
    "for ii in range(disp[0],disp[-1]+1):\n",
    "    im31.set_data(projections[ii])\n",
    "    ax31.set_title(f'Projection number {ii}', fontsize = 16)\n",
    "    im32.set_data(valignproj[ii])\n",
    "    ax32.set_title(f'Vert. aligned projec. number {ii}', fontsize = 16)\n",
    "    display.display(plt.gcf())\n",
    "    display.clear_output(wait=True)"
   ]
  },
  {
   "cell_type": "code",
   "execution_count": null,
   "metadata": {
    "tags": []
   },
   "outputs": [],
   "source": [
    "#release some memory\n",
    "del projections"
   ]
  },
  {
   "cell_type": "code",
   "execution_count": null,
   "metadata": {
    "tags": []
   },
   "outputs": [],
   "source": [
    "sinogram = valignproj[:,300,:]\n",
    "argangle = np.argsort(theta)\n",
    "sinosort = sinogram[argangle]\n",
    "\n",
    "# preparing figure canvas\n",
    "plt.close('all')\n",
    "fig4 = plt.figure(4, figsize = (12,4))\n",
    "ax41 = fig4.add_subplot(121)\n",
    "im41 = ax41.imshow(sinogram.T,cmap='bone', vmin = -4, vmax = 1)\n",
    "ax41.set_xlabel('Projection number')\n",
    "ax41.set_ylabel('Radial coordinate')\n",
    "ax41.set_title('Original sinogram (interlaced)', fontsize = 16)\n",
    "ax41.axis('tight')\n",
    "ax42 = fig4.add_subplot(122)\n",
    "im42 = ax42.imshow(sinosort.T,cmap='bone', vmin = -4, vmax = 1)\n",
    "ax42.set_xlabel('Projection number')\n",
    "ax42.set_ylabel('Radial coordinate')\n",
    "ax42.set_title('Angle-sorted sinogram', fontsize = 16)\n",
    "ax42.axis('tight')\n",
    "display.display(plt.gcf())\n",
    "display.clear_output(wait=True)"
   ]
  },
  {
   "cell_type": "markdown",
   "metadata": {},
   "source": [
    "### Preparation for the horizontal alignment\n",
    "For the horizontal alignment, we will use the tomographic consistency condition which reflects the uniqueness between the sinogram and the tomographic reconstructed slice, i.e., for each reconstructed slice, there is only one sinogram that can correspond to that reconstruction. \n",
    "\n",
    "Therefore, after reconstructing a slice and re-projecting to obtain the sinogram from the reconstructed slice, the resulting sinogram must be equal to the initial sinogram used for the reconstruction. If this is not the case, this will mean that the projections are horizontally misaligned.\n",
    "\n",
    "Consequently, we need to be able to reconstruct a tomographic slice from the data we have so far. We will not do it using a non-standard tomographic reconstruction approach which is insensitive to spikes or possible phase wraps not yet corrected. For this, we will use the derivatives of the projections. "
   ]
  },
  {
   "cell_type": "markdown",
   "metadata": {},
   "source": [
    "#### Calculating the derivative of the projections"
   ]
  },
  {
   "cell_type": "code",
   "execution_count": null,
   "metadata": {
    "tags": []
   },
   "outputs": [],
   "source": [
    "# import the toupy routines we will need\n",
    "from toupy.restoration import calculate_derivatives, chooseregiontoderivatives"
   ]
  },
  {
   "cell_type": "markdown",
   "metadata": {},
   "source": [
    "Entering the required parameters"
   ]
  },
  {
   "cell_type": "code",
   "execution_count": null,
   "metadata": {
    "tags": []
   },
   "outputs": [],
   "source": [
    "params = dict() # initializing dictionary\n",
    "params[\"deltax\"] = 10  # From edge of region to edge of image in x\n",
    "params[\"limsy\"] = (55, 460)  # (top, bottom)\n",
    "params[\"shift_method\"] = \"fourier\" # \"linear\" = bilinear interpolation or \"fourier\" = shift in the Fourier space"
   ]
  },
  {
   "cell_type": "code",
   "execution_count": null,
   "metadata": {
    "tags": []
   },
   "outputs": [],
   "source": [
    "roix, roiy = chooseregiontoderivatives(valignproj, **params)"
   ]
  },
  {
   "cell_type": "code",
   "execution_count": null,
   "metadata": {
    "tags": []
   },
   "outputs": [],
   "source": [
    "valigndiff = calculate_derivatives(\n",
    "        valignproj, roiy, roix, shift_method=params[\"shift_method\"]\n",
    "    )"
   ]
  },
  {
   "cell_type": "markdown",
   "metadata": {},
   "source": [
    "Do you want to see how the derivatives of the projections look like?"
   ]
  },
  {
   "cell_type": "code",
   "execution_count": null,
   "metadata": {
    "tags": []
   },
   "outputs": [],
   "source": [
    "#------------\n",
    "# parameters\n",
    "#------------\n",
    "# you can put here the projections you want to display\n",
    "disp = [300,320] # starts at index 0.\n",
    "#------------\n",
    "# preparing figure canvas\n",
    "plt.close('all')\n",
    "fig3 = plt.figure(3, figsize = (10,4))\n",
    "ax31 = fig3.add_subplot(121)\n",
    "im31 = ax31.imshow(valignproj[0,roiy[0]:roiy[-1],roix[0]:roix[-1]],cmap='bone')\n",
    "ax31.set_title('Projection number 1', fontsize = 16)\n",
    "ax32 = fig3.add_subplot(122)\n",
    "im32 = ax32.imshow(valigndiff[0],cmap='bone',vmin=-0.15, vmax=0.15)\n",
    "ax32.set_title('Derivative of projec. number 1', fontsize = 16)\n",
    "for ii in range(disp[0],disp[-1]+1):\n",
    "    im31.set_data(valignproj[ii,roiy[0]:roiy[-1],roix[0]:roix[-1]])\n",
    "    ax31.set_title(f'Projection number {ii}', fontsize = 16)\n",
    "    im32.set_data(valigndiff[ii])\n",
    "    ax32.set_title(f'Derivative of projec. number {ii}', fontsize = 16)\n",
    "    display.display(plt.gcf())\n",
    "    display.clear_output(wait=True)"
   ]
  },
  {
   "cell_type": "code",
   "execution_count": null,
   "metadata": {
    "tags": []
   },
   "outputs": [],
   "source": [
    "#release memory\n",
    "del valignproj"
   ]
  },
  {
   "cell_type": "markdown",
   "metadata": {},
   "source": [
    "#### Checking for the rotation axis positions\n",
    "We will now visually check the rotation axis and get a prelimary approximation of its position. For this, we will now reconstruct our first tomographic slice, yet likely misaligned. For this reconstruction, we will use a modified Filtered Back Projection (FBP) algorithm which accepts the derivatives of the projections.\n",
    "\n",
    "The tomographic reconstruction will be performed in CPU for the sake of this tutorial. But it can be much accelerated if implemented in GPU cards. \n",
    "\n",
    "The ESRF suite of software [`Nabu`](https://gitlab.esrf.fr/tomotools/nabu) and [`PyHST`](https://gitlab.esrf.fr/mirone/pyhst2) provide CUDA GPU-based reconstructions and are quite fast. The ESRF suite [`Silx`](https://github.com/silx-kit/silx) provides OpenCL-based reconstruction which is also fast in GPU cards."
   ]
  },
  {
   "cell_type": "code",
   "execution_count": null,
   "metadata": {
    "tags": []
   },
   "outputs": [],
   "source": [
    "# import the toupy routines we will need\n",
    "from toupy.registration import estimate_rot_axis"
   ]
  },
  {
   "cell_type": "code",
   "execution_count": null,
   "metadata": {
    "tags": []
   },
   "outputs": [],
   "source": [
    "params[\"slicenum\"] = 225  # Choose the slice\n",
    "params[\"filtertype\"] = \"hann\"  # Filter to use for FBP\n",
    "params[\"freqcutoff\"] = 0.9  # Normalized frequency cutoff in case you want to apply a low pass band filter\n",
    "params[\"circle\"] = True # Apply a circular region in the external part of the slice\n",
    "params[\"algorithm\"] = \"FBP\" # Filtered Back projections algorithm\n",
    "# initial guess of the offset of the axis of rotation\n",
    "params[\"rot_axis_offset\"] = 0\n",
    "params[\"cliplow\"] = None  # clip on low threshold for display\n",
    "params[\"cliphigh\"] = -1e-4  # clip on high threshold for display\n",
    "params[\"sinohigh\"] = None  # -0.1 # maximum gray level to display the sinograms\n",
    "params[\"sinolow\"] = None  # 0.1 # minimum gray level to display the sinograms\n",
    "params[\"sinocmap\"] = \"bone\" # sinogram colormap\n",
    "params[\"colormap\"] = \"bone\" # slice colormap\n",
    "params[\"derivatives\"] = True # True if the input is the derivative of the projections\n",
    "params[\"calc_derivatives\"] = False  # Calculate derivatives if not done"
   ]
  },
  {
   "cell_type": "code",
   "execution_count": null,
   "metadata": {
    "tags": []
   },
   "outputs": [],
   "source": [
    "estimate_rot_axis(valigndiff, theta, **params)"
   ]
  },
  {
   "cell_type": "markdown",
   "metadata": {},
   "source": [
    "Now, we will start the **horizontal alignment**."
   ]
  },
  {
   "cell_type": "code",
   "execution_count": null,
   "metadata": {
    "tags": []
   },
   "outputs": [],
   "source": [
    "# import the toupy routines we will need\n",
    "from toupy.registration import (\n",
    "    alignprojections_horizontal,\n",
    "    compute_aligned_horizontal,\n",
    "    oneslicefordisplay,\n",
    "    refine_horizontalalignment,\n",
    "    tomoconsistency_multiple,\n",
    ")"
   ]
  },
  {
   "cell_type": "markdown",
   "metadata": {},
   "source": [
    "I pasted some of the parameters below in order we can easily changed them if needed. We will already enter our prelimary estimate of the rotation axis position:"
   ]
  },
  {
   "cell_type": "code",
   "execution_count": null,
   "metadata": {
    "tags": []
   },
   "outputs": [],
   "source": [
    "params[\"slicenum\"] = 225  # Choose the slice\n",
    "params[\"filtertype\"] = \"hann\"  # Filter to use for FBP\n",
    "params[\"freqcutoff\"] = 0.4  # Frequency cutoff (between 0 and 1)\n",
    "params[\"circle\"] = True # Apply a circular region in the external part of the slice\n",
    "params[\"rot_axis_offset\"] = 20 #<---- our estimate goes here --------\n",
    "params[\"pixtol\"] = 0.01  # Tolerance of registration in pixels\n",
    "params[\"shiftmeth\"] = \"fourier\"  # 'sinc' or 'linear' better for noise\n",
    "params[\"maxit\"] = 20  # max of iterations\n",
    "params[\"cliplow\"] = None  # clip air threshold\n",
    "params[\"cliphigh\"] = -4e-4  # clip on sample threshold\n",
    "params[\"sinohigh\"] = None\n",
    "params[\"sinolow\"] = None"
   ]
  },
  {
   "cell_type": "markdown",
   "metadata": {},
   "source": [
    "We should remember now of our array `shiftproj` we created and used during the vertical alignment. We can see the vertical shifts are there, but the horizontal shifts are all 0. We will then add our preliminary estimate of the rotation axis offset to the horizonal shifts and, afterwards, we plot the `shiftproj` again:"
   ]
  },
  {
   "cell_type": "code",
   "execution_count": null,
   "metadata": {
    "tags": []
   },
   "outputs": [],
   "source": [
    "shiftproj[1] = np.zeros(valigndiff.shape[0]) # to be used in case of accidental overwritting\n",
    "shiftproj_orig = shiftproj.copy() # keeping track of the original shiftproj"
   ]
  },
  {
   "cell_type": "code",
   "execution_count": null,
   "metadata": {
    "tags": []
   },
   "outputs": [],
   "source": [
    "shiftproj[1] = np.zeros(valigndiff.shape[0]) + params[\"rot_axis_offset\"] # note we have reinforced the zero initialization to prevent accidents\n",
    "fig4 = plt.figure(4,(10,4))\n",
    "ax41 = fig4.add_subplot(121)\n",
    "ax41.plot(shiftproj_orig.T)\n",
    "ax41.legend(['vertical', 'horizontal'])\n",
    "ax42 = fig4.add_subplot(122)\n",
    "ax42.plot(shiftproj.T)\n",
    "ax42.legend(['vertical', 'horizontal'])\n",
    "display.display(plt.gcf())\n",
    "display.clear_output(wait=True)"
   ]
  },
  {
   "cell_type": "markdown",
   "metadata": {},
   "source": [
    "Great! Now we can begin the horizontal alignment procedure:"
   ]
  },
  {
   "cell_type": "code",
   "execution_count": null,
   "metadata": {
    "tags": []
   },
   "outputs": [],
   "source": [
    "# calculate the sinogram needed for the alignment\n",
    "sinogram = np.transpose(valigndiff[:, params[\"slicenum\"], :]).copy()\n",
    "shiftproj = alignprojections_horizontal(sinogram, theta, shiftproj, **params)\n",
    "# alignment refinement with different parameters if necessary\n",
    "shiftstack, params = refine_horizontalalignment(\n",
    "        valigndiff, theta, shiftproj, **params\n",
    ")"
   ]
  },
  {
   "cell_type": "markdown",
   "metadata": {},
   "source": [
    "Let us now repeat this alignment for 10 slices (-5 and +5 relative to the currently selected slicenum). At the end, we can decide to use (or not) the average of the shift values. "
   ]
  },
  {
   "cell_type": "code",
   "execution_count": null,
   "metadata": {
    "tags": []
   },
   "outputs": [],
   "source": [
    "shiftproj = tomoconsistency_multiple(valigndiff, theta, shiftproj, **params)"
   ]
  },
  {
   "cell_type": "markdown",
   "metadata": {},
   "source": [
    "Very good, we have reached a good alignment. Therefore, we not apply the shifts to the projections and reconstruct one tomographic slice for our inspection:"
   ]
  },
  {
   "cell_type": "code",
   "execution_count": null,
   "metadata": {
    "tags": []
   },
   "outputs": [],
   "source": [
    "alignedproj = compute_aligned_horizontal(\n",
    "        valigndiff, shiftproj, shift_method=params[\"shiftmeth\"]\n",
    "    )"
   ]
  },
  {
   "cell_type": "code",
   "execution_count": null,
   "metadata": {
    "tags": []
   },
   "outputs": [],
   "source": [
    "# release some memory\n",
    "del valigndiff"
   ]
  },
  {
   "cell_type": "code",
   "execution_count": null,
   "metadata": {
    "tags": []
   },
   "outputs": [],
   "source": [
    "# calculate one slice for display\n",
    "aligned_sinogram = np.transpose(alignedproj[:, params[\"slicenum\"], :])\n",
    "oneslicefordisplay(aligned_sinogram, theta, **params)"
   ]
  },
  {
   "cell_type": "markdown",
   "metadata": {},
   "source": [
    "#### Let us save our progress so far and make a break for discution/questions"
   ]
  },
  {
   "cell_type": "code",
   "execution_count": null,
   "metadata": {
    "tags": []
   },
   "outputs": [],
   "source": [
    "outputfname = \"PXCTalignedprojections.npz\"\n",
    "np.savez(outputfname, wavelen = wavelen, psize = pixsize, projections = alignedproj, theta = theta)"
   ]
  },
  {
   "cell_type": "code",
   "execution_count": null,
   "metadata": {},
   "outputs": [],
   "source": [
    "!ls -lrth"
   ]
  },
  {
   "cell_type": "code",
   "execution_count": null,
   "metadata": {},
   "outputs": [],
   "source": []
  }
 ],
 "metadata": {
  "kernelspec": {
   "display_name": "Python 3 (ipykernel)",
   "language": "python",
   "name": "python3"
  },
  "language_info": {
   "codemirror_mode": {
    "name": "ipython",
    "version": 3
   },
   "file_extension": ".py",
   "mimetype": "text/x-python",
   "name": "python",
   "nbconvert_exporter": "python",
   "pygments_lexer": "ipython3",
   "version": "3.11.2"
  }
 },
 "nbformat": 4,
 "nbformat_minor": 4
}
