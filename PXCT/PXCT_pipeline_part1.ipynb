{
 "cells": [
  {
   "cell_type": "markdown",
   "metadata": {},
   "source": [
    "# Tutorial PXCT data analysis (PART 1) - HERCULES school 2021\n",
    "\n",
    "### Tutor: Julio C. da Silva (Néel Institute CNRS, Grenoble, France) \n",
    "### email: julio-cesar.da-silva@neel.cnrs.fr\n",
    "#### Personal webpage: https://sites.google.com/view/jcesardasilva\n",
    "\n",
    "### <span style=\"color:red\">** Disclaimer: This notebook is intended from educational reasons only.**</span>"
   ]
  },
  {
   "cell_type": "markdown",
   "metadata": {},
   "source": [
    "<table class=\"tfo-notebook-buttons\" align=\"center\">\n",
    "\n",
    "  <td>\n",
    "    <a target=\"_blank\" rel=\"noopener noreferrer\"\n",
    "href=\"https://mybinder.org/v2/gh/jcesardasilva/tutorialHercules.git/HEAD\"><img src=\"https://mybinder.org/static/images/logo_social.png\" height=\"52\" width=\"62\"/>Run in MyBinder.org</a>\n",
    "  </td>\n",
    "    \n",
    "  <td>\n",
    "    <a target=\"_blank\" rel=\"noopener noreferrer\" href=\"https://colab.research.google.com/github/jcesardasilva/tutorialHercules/blob/master/PXCT/PXCT_pipeline_part1.ipynb\"><img src=\"https://www.tensorflow.org/images/colab_logo_32px.png\" />Run in Google Colab</a>\n",
    "  </td>\n",
    "    \n",
    "  <td>\n",
    "    <a target=\"_blank\" rel=\"noopener noreferrer\"\n",
    "href=\"https://jupyter-slurm.esrf.fr/\"><img src=\"https://upload.wikimedia.org/wikipedia/fr/thumb/3/37/ESRF_-_Grenoble.png/280px-ESRF_-_Grenoble.png\" height=\"40\" width=\"40\"/>Run in Jupyter-Slurm at ESRF (needs login)</a>\n",
    "  </td>\n",
    "    \n",
    "  <td>\n",
    "    <a target=\"_blank\" rel=\"noopener noreferrer\" href=\"https://github.com/jcesardasilva/tutorialHercules.git\"><img src=\"https://www.tensorflow.org/images/GitHub-Mark-32px.png\" />View source on GitHub</a>\n",
    "   </td>\n",
    "    \n",
    "</table>"
   ]
  },
  {
   "cell_type": "markdown",
   "metadata": {},
   "source": [
    "**All the steps of this processing pipeline are described in:**\n",
    "\n",
    "*da Silva, J. C., Haubrich, J., Requena, G., Hubert, M., Pacureanu, A., Bloch, L., Yang, Y., Cloetens, P., “High energy near-and far-field ptychographic tomography at the ESRF”. Proc. SPIE 10391, Developments in X-Ray Tomography XI, 1039106 (2017). [doi: 10.1117/12.2272971](https://doi.org/10.1117/12.2272971)*\n",
    "\n",
    "**REMARKS: the references of this paper contains a list of important and more pioneering works on the PXCT data processing steps**"
   ]
  },
  {
   "cell_type": "markdown",
   "metadata": {},
   "source": [
    "### Toupy - Tomographic Utilities for Python\n",
    "\n",
    "<table class=\"tfo-notebook-buttons\" align=\"center\">\n",
    "\n",
    "  <td>\n",
    "    <a target=\"_blank\" rel=\"noopener noreferrer\"\n",
    "href=\"https://toupy.readthedocs.io\"><img src=\"https://toupy.readthedocs.io/en/latest/_static/toupy_logo.png\" width=\"20%\"/></a>\n",
    "  </td>\n",
    "</table>\n",
    "\n",
    "**For the PXCT data analysis, we will use the python suite [*Toupy*](https://toupy.readthedocs.io/), which is maintained by me, but open to contributions from the community.**\n",
    "\n",
    "<span style=\"color:blue\">**Another suite of routines for PXCT data processing is [*PtychoShelves*](https://journals.iucr.org/j/issues/2020/02/00/zy5001/), which is high optimized and provided even very advanced algorithms. It run in MATLAB and it is compatible with GPUs**</span>\n",
    "\n",
    "This tutorial needs a package called Toupy, which can be installed as:"
   ]
  },
  {
   "cell_type": "code",
   "execution_count": null,
   "metadata": {},
   "outputs": [],
   "source": [
    "#!pip3 install --user --force-reinstall --upgrade git+https://github.com/jcesardasilva/toupy.git # uncomment this line if not installed\n",
    "#!pip3 install --user --upgrade ipympl"
   ]
  },
  {
   "cell_type": "markdown",
   "metadata": {},
   "source": [
    "Importing the dependencies:"
   ]
  },
  {
   "cell_type": "code",
   "execution_count": null,
   "metadata": {},
   "outputs": [],
   "source": [
    "%matplotlib ipympl\n",
    "# standard packages\n",
    "import warnings\n",
    "warnings.filterwarnings('ignore') # getting rid of annoying warnings.\n",
    "# third party packages\n",
    "import ipympl\n",
    "from IPython import display\n",
    "import matplotlib.pyplot as plt\n",
    "import numpy as np\n",
    "import toupy"
   ]
  },
  {
   "cell_type": "markdown",
   "metadata": {},
   "source": [
    "#### Loading the data\n",
    "We now load the data. We will use a dataset we obtained at cSAXS beamline (PSI, CH) by applying PXCT on the characterizationn of a shaped Fluid Catalytic Cracking (FCC) catalyst. The open-access publication from 2015 can be found [here](https://doi.org/10.1002/cctc.201402925)*. FCC catalysts are important shaped catalysts for the oil industry which enable the conversion of crude oil (petroleum) into more valuable products (E.g. gasoline, olefinic gases).\n",
    "\n",
    "***da Silva, J. C., Mader, K., Holler, M., Haberthür, D., Diaz, A., Guizar-Sicairos, M., Cheng, W-.C., Shu, Y., Raabe, J., Menzel, A., van Bokhoven, J. A., “Assessment of the 3D pore structure and individual components of preshaped catalyst bodies by X-ray imaging”, ChemCatChem 7, 413-416 (2015)**\n",
    "\n",
    "The file containing the data should be `PXCTprojections.npz`, which contains the complex-values PXCT projections. Let us download the file from internet first:"
   ]
  },
  {
   "cell_type": "code",
   "execution_count": null,
   "metadata": {},
   "outputs": [],
   "source": [
    "# Toupy provides a routine to download the data from the URL\n",
    "from toupy.utils import downloadURLfile\n",
    "import tarfile\n",
    "tarfname = \"PXCTprojections.tar.gz\"\n",
    "urldata = 'https://cloud.neel.cnrs.fr/index.php/s/kjXWNMzsYEzYa34/download'\n",
    "downloadURLfile(urldata, 'PXCTprojections.npz') # this may take time depending on internet speed\n",
    "# uncompress and extract the file\n",
    "tf = tarfile.open(tarfname)\n",
    "tf.extractall()"
   ]
  },
  {
   "cell_type": "markdown",
   "metadata": {},
   "source": [
    "<span style=\"color:red\"> **Remark:**\n",
    "For the sake of speed and to reduce the computing resources required for this tutorial, the projections have been downsized (binned) by a factor 2, which also means the pixel size is twice larger than the original pixel size. Nevertheless, this does not affect the data processing step, which should be identical for the original dataset. </span>\n",
    "\n",
    "We can now load the data from the file:"
   ]
  },
  {
   "cell_type": "code",
   "execution_count": null,
   "metadata": {},
   "outputs": [],
   "source": [
    "fname = \"PXCTprojections.npz\"\n",
    "data_dict = np.load(fname) # load the file\n",
    "list(data_dict.files) # this one list the keys of the data dictionary extracted from the file"
   ]
  },
  {
   "cell_type": "markdown",
   "metadata": {},
   "source": [
    "You can, for example, get the wavelength of the pixel size:"
   ]
  },
  {
   "cell_type": "code",
   "execution_count": null,
   "metadata": {},
   "outputs": [],
   "source": [
    "wavelen = data_dict['wavelen']\n",
    "pixsize = data_dict['psize']\n",
    "\n",
    "print(f\"The projection pixel size of the projections is {pixsize/1e-9:.02f} nm\")\n",
    "print(f\"The wavelenth of the incoming photons is {wavelen/1e-10:.02f} Angstroms\")"
   ]
  },
  {
   "cell_type": "markdown",
   "metadata": {},
   "source": [
    "We should also get the tomographic angles (`theta`) and the complex-valued projections, from which we should extract only the phases:"
   ]
  },
  {
   "cell_type": "code",
   "execution_count": null,
   "metadata": {},
   "outputs": [],
   "source": [
    "theta = data_dict['theta']\n",
    "projections = data_dict['projections'] # <- ATTENTION: this one is memory consuming. \n",
    "projections = np.angle(projections) # Get the phases of the complex-valued projections\n",
    "nproj, nr, nc = projections.shape"
   ]
  },
  {
   "cell_type": "code",
   "execution_count": null,
   "metadata": {},
   "outputs": [],
   "source": [
    "delta_theta = np.diff(theta)\n",
    "print(f\"The angular sampling interval is {delta_theta[0]:.02f} degrees\")"
   ]
  },
  {
   "cell_type": "markdown",
   "metadata": {},
   "source": [
    "Let us take a look at one projection. I will select the first and last ones,i.e. at angles 0 and 180-$\\Delta\\theta$ degress:"
   ]
  },
  {
   "cell_type": "code",
   "execution_count": null,
   "metadata": {},
   "outputs": [],
   "source": [
    "plt.close('all')\n",
    "fig1 = plt.figure(1,figsize=(10,4))\n",
    "ax1 = fig1.add_subplot(121)\n",
    "im1 = ax1.imshow(projections[0],cmap='bone', vmin=-4, vmax=1)\n",
    "ax1.set_title('Phase proj. at 0 degrees',fontsize = 14)\n",
    "#cax = divider.append_axes('right', size='5%', pad=0.05)\n",
    "#fig1.colorbar(im1,cax=cax)\n",
    "ax2 = fig1.add_subplot(122)\n",
    "im2 = ax2.imshow(projections[-1],cmap='bone', vmin=-4, vmax=1)\n",
    "ax2.set_title('Phase proj. at (180-3.2) degrees',fontsize = 14)\n",
    "display.display(fig1)\n",
    "#display.display(fig1.canvas)\n",
    "#display.clear_output(wait=True)"
   ]
  },
  {
   "cell_type": "markdown",
   "metadata": {},
   "source": [
    "#### Removing linear phase ramp\n",
    "You may have notice the linear phase ramp in the image. The first step of the PXCT data analysis is correcting for that ramp as we do below. "
   ]
  },
  {
   "cell_type": "markdown",
   "metadata": {},
   "source": [
    "**Toupy** provides an iterative enviroment to select the mask area, but interactive plot from matplotlib are not supported in Jupyter notebooks, unfortunately. Otherwise, one could use the commented lines below:"
   ]
  },
  {
   "cell_type": "code",
   "execution_count": null,
   "metadata": {},
   "outputs": [],
   "source": [
    "#from toupy.restoration import gui_plotphase\n",
    "#stack_phasecorr = gui_plotphase(projections,**params) #<-- iterative plots like this are not allowed in jupyter, \n",
    "                                                      #  but can be used out of the jupyter enviroment"
   ]
  },
  {
   "cell_type": "markdown",
   "metadata": {},
   "source": [
    "So, instead of the interactive plot, let us do it manually. Let us first plot one projection to look at the ramp and air area:"
   ]
  },
  {
   "cell_type": "code",
   "execution_count": null,
   "metadata": {},
   "outputs": [],
   "source": [
    "import matplotlib.gridspec as gridspec\n",
    "#-----------\n",
    "# parameters\n",
    "#------------\n",
    "projnum = 1 # projection number\n",
    "pvmin = -2.1 # gray scale minimum value\n",
    "pvmax = 2 # gray scale maximum value\n",
    "#------------\n",
    "# Displaying the images\n",
    "fig2 = plt.figure(2,figsize=(6,8))\n",
    "gs = gridspec.GridSpec(\n",
    "        2, 1, width_ratios=[4], height_ratios=[7,3]  # figure=4,\n",
    "    )\n",
    "ax1 = plt.subplot(gs[0])\n",
    "im1 = ax1.imshow(projections[projnum],cmap=\"bone\",vmin=pvmin,vmax=pvmax)\n",
    "ax1.axis('tight')\n",
    "ax1.plot([0,nc],[int(nr/2),int(nr/2)],'r--')\n",
    "ax2 = plt.subplot(gs[1])\n",
    "im2 = ax2.plot(projections[projnum,np.int(nr/2),:])\n",
    "ax2.plot([0,nc],[0,0])\n",
    "ax2.set_xlim([0,nc])\n",
    "ax2.set_ylim([pvmin,pvmax])\n",
    "display.display(fig2)\n",
    "display.display(fig2.canvas)\n",
    "display.clear_output(wait=True)"
   ]
  },
  {
   "cell_type": "markdown",
   "metadata": {},
   "source": [
    "#### Creating the mask\n",
    "We should create a mask containing only area with air/vacuum around the sample:"
   ]
  },
  {
   "cell_type": "code",
   "execution_count": null,
   "metadata": {},
   "outputs": [],
   "source": [
    "maskair = np.zeros_like(projections[0])\n",
    "maskair[100:400,70:150]=1\n",
    "maskair[100:400,490:550]=1\n",
    "#-----------\n",
    "# parameters\n",
    "#------------\n",
    "projnum = 1 # projection number\n",
    "pvmin = -2.1 # gray scale minimum value\n",
    "pvmax = 2 # gray scale maximum value\n",
    "#------------\n",
    "\n",
    "# Displaying the images\n",
    "fig2 = plt.figure(2,figsize=(6,8))\n",
    "gs = gridspec.GridSpec(\n",
    "        2, 1, width_ratios=[4], height_ratios=[7,3]  # figure=4,\n",
    "    )\n",
    "ax1 = plt.subplot(gs[0])\n",
    "im1 = ax1.imshow(projections[projnum]+maskair,cmap=\"bone\",vmin=pvmin,vmax=pvmax)\n",
    "ax1.axis('tight')\n",
    "ax1.plot([0,nc],[int(nr/2),int(nr/2)],'r--')\n",
    "ax2 = plt.subplot(gs[1])\n",
    "im2 = ax2.plot(projections[projnum,np.int(nr/2),:])\n",
    "ax2.plot([0,nc],[0,0])\n",
    "ax2.set_xlim([0,nc])\n",
    "ax2.set_ylim([pvmin,pvmax])\n",
    "display.display(fig2)\n",
    "display.display(fig2.canvas)\n",
    "display.clear_output(wait=True)"
   ]
  },
  {
   "cell_type": "markdown",
   "metadata": {},
   "source": [
    "#### Applying the mask\n",
    "Let us apply the mask to one projection"
   ]
  },
  {
   "cell_type": "code",
   "execution_count": null,
   "metadata": {},
   "outputs": [],
   "source": [
    "from toupy.restoration import rmlinearphase\n",
    "from toupy.utils import progbar"
   ]
  },
  {
   "cell_type": "code",
   "execution_count": null,
   "metadata": {},
   "outputs": [],
   "source": [
    "#-----------\n",
    "# parameters\n",
    "#------------\n",
    "projnum = 1 # projection number\n",
    "pvmin = -3 # gray scale minimum value\n",
    "pvmax = 1 # gray scale maximum value\n",
    "#------------\n",
    "imgin = np.exp(1j * projections[projnum]).copy() # Deep copy\n",
    "projcorr = np.angle(rmlinearphase(imgin, maskair)).copy()\n",
    "# Displaying the images again\n",
    "fig2 = plt.figure(2,figsize=(6,8))\n",
    "gs = gridspec.GridSpec(\n",
    "        2, 1, width_ratios=[4], height_ratios=[7,3]  # figure=4,\n",
    "    )\n",
    "ax1 = plt.subplot(gs[0])\n",
    "im1 = ax1.imshow(projcorr+maskair,cmap=\"bone\",vmin=pvmin,vmax=pvmax)\n",
    "ax1.axis('tight')\n",
    "ax1.plot([0,nc],[int(nr/2),int(nr/2)],'r--')\n",
    "ax2 = plt.subplot(gs[1])\n",
    "im2 = ax2.plot(projcorr[np.int(nr/2),:])\n",
    "ax2.plot([0,nc],[0,0])\n",
    "ax2.set_xlim([0,nc])\n",
    "ax2.set_ylim([pvmin,pvmax])\n",
    "display.display(fig2)\n",
    "display.display(fig2.canvas)\n",
    "display.clear_output(wait=True)"
   ]
  },
  {
   "cell_type": "markdown",
   "metadata": {},
   "source": [
    "Great! It works. So, we can proceed with all the other projections:"
   ]
  },
  {
   "cell_type": "code",
   "execution_count": null,
   "metadata": {},
   "outputs": [],
   "source": [
    "projcorr = np.empty_like(projections)\n",
    "for ii in range(nproj):\n",
    "    strbar = \"Projection {} out of {}\".format(ii + 1, nproj)\n",
    "    imgin = np.exp(1j * projections[ii]).copy() # Deep copy\n",
    "    projcorr[ii] = np.angle(rmlinearphase(imgin, maskair)).copy()\n",
    "    progbar(ii+1,nproj,strbar)"
   ]
  },
  {
   "cell_type": "code",
   "execution_count": null,
   "metadata": {},
   "outputs": [],
   "source": [
    "# Do you want to check the results? Take a look:\n",
    "#-----------\n",
    "# parameters\n",
    "#------------\n",
    "projnum = 200 # projection number\n",
    "pvmin = -3 # gray scale minimum value\n",
    "pvmax = 1 # gray scale maximum value\n",
    "#------------\n",
    "\n",
    "# Displaying the images\n",
    "fig2 = plt.figure(2,figsize=(6,8))\n",
    "gs = gridspec.GridSpec(\n",
    "        2, 1, width_ratios=[4], height_ratios=[7,3]  # figure=4,\n",
    "    )\n",
    "ax1 = plt.subplot(gs[0])\n",
    "im1 = ax1.imshow(projcorr[projnum],cmap=\"bone\",vmin=pvmin,vmax=pvmax)\n",
    "ax1.axis('tight')\n",
    "ax1.plot([0,nc],[int(nr/2),int(nr/2)],'r--')\n",
    "ax2 = plt.subplot(gs[1])\n",
    "im2 = ax2.plot(projcorr[projnum,np.int(nr/2),:])\n",
    "ax2.plot([0,nc],[0,0])\n",
    "ax2.set_xlim([0,nc])\n",
    "ax2.set_ylim([pvmin,pvmax])\n",
    "display.display(fig2)\n",
    "display.display(fig2.canvas)\n",
    "display.clear_output(wait=True)"
   ]
  },
  {
   "cell_type": "markdown",
   "metadata": {},
   "source": [
    "#### Phase unwrapping\n",
    "Although there are very few area where the phases are wrapped, it will be benefitial to unwrap them."
   ]
  },
  {
   "cell_type": "code",
   "execution_count": null,
   "metadata": {},
   "outputs": [],
   "source": [
    "# import the toupy routines we will need\n",
    "from toupy.restoration import phaseresidues, chooseregiontounwrap, unwrapping_phase\n",
    "from toupy.utils import iterative_show"
   ]
  },
  {
   "cell_type": "code",
   "execution_count": null,
   "metadata": {},
   "outputs": [],
   "source": [
    "# find the residues and choose region to be unwrapped\n",
    "rx, ry, airpix = chooseregiontounwrap(projcorr)"
   ]
  },
  {
   "cell_type": "code",
   "execution_count": null,
   "metadata": {},
   "outputs": [],
   "source": [
    "projunwrap = unwrapping_phase(projcorr, rx, ry, airpix, vmin=pvmin, vmax=pvmax)"
   ]
  },
  {
   "cell_type": "code",
   "execution_count": null,
   "metadata": {},
   "outputs": [],
   "source": [
    "del projcorr\n",
    "del projections # release some memory"
   ]
  },
  {
   "cell_type": "markdown",
   "metadata": {},
   "source": [
    "#### Let us save our progress so far and make a break for discution/questions"
   ]
  },
  {
   "cell_type": "code",
   "execution_count": null,
   "metadata": {},
   "outputs": [],
   "source": [
    "outputfname = \"PXCTcorrprojections.npz\"\n",
    "np.savez(outputfname, wavelen = wavelen, psize = pixsize, projections = projunwrap, theta = theta)"
   ]
  },
  {
   "cell_type": "code",
   "execution_count": null,
   "metadata": {},
   "outputs": [],
   "source": [
    "!ls -lrth"
   ]
  },
  {
   "cell_type": "code",
   "execution_count": null,
   "metadata": {},
   "outputs": [],
   "source": []
  }
 ],
 "metadata": {
  "kernelspec": {
   "display_name": "Python 3",
   "language": "python",
   "name": "python3"
  },
  "language_info": {
   "codemirror_mode": {
    "name": "ipython",
    "version": 3
   },
   "file_extension": ".py",
   "mimetype": "text/x-python",
   "name": "python",
   "nbconvert_exporter": "python",
   "pygments_lexer": "ipython3",
   "version": "3.9.1"
  }
 },
 "nbformat": 4,
 "nbformat_minor": 4
}
