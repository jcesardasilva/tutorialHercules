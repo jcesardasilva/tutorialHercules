{
 "cells": [
  {
   "cell_type": "markdown",
   "metadata": {},
   "source": [
    "# Tutorial Ptychographic imaging\n",
    "\n",
    "### Tutor: Julio C. da Silva (Néel Institute CNRS, Grenoble, France) /  email: julio-cesar.da-silva@neel.cnrs.fr\n",
    "#### Personal webpage: https://sites.google.com/view/jcesardasilva\n",
    "\n",
    "##### Disclaimer: This notebook is intended from educational reasons only and should not be use for professional data analysis. For the latter, there are other more efficient and complete codes available.\n",
    "\n",
    "This code run in **Python3** and requires certain python packages, which are: **Numpy, IPython, Matplotlib, Scikit-Image**\n",
    "\n",
    "If you do not have those packages, I suggest their installation via pip install: \n",
    "\n",
    "    pip3 install numpy, ipython, matplotlib, scikit-image"
   ]
  },
  {
   "cell_type": "markdown",
   "metadata": {},
   "source": [
    "# Ptychographic phase retrieval\n",
    "This code is deeply inspired by the MATLAB code available in the Appendix A of the Diploma thesis by Dr. Martin Dierolf, which is available here: https://www.psi.ch/sls/csaxs/PublicationsEN/thesis_dierolf.pdf"
   ]
  },
  {
   "cell_type": "code",
   "execution_count": null,
   "metadata": {},
   "outputs": [],
   "source": [
    "%matplotlib inline\n",
    "# standard python package\n",
    "import time \n",
    "\n",
    "# third party packages\n",
    "from IPython import display\n",
    "import matplotlib.pyplot as plt\n",
    "import numpy as np\n",
    "from skimage import color\n",
    "from skimage.io import imread\n",
    "from skimage.transform import resize\n",
    "#import warnings\n",
    "#warnings.filterwarnings(\"ignore\")"
   ]
  },
  {
   "cell_type": "markdown",
   "metadata": {},
   "source": [
    "## Experimental Settings\n",
    "This part set the value of the aperture, the amount of overlap and the scanning step"
   ]
  },
  {
   "cell_type": "code",
   "execution_count": null,
   "metadata": {},
   "outputs": [],
   "source": [
    "d=8.5e-6#12e-6 # diameter of aperture\n",
    "overlap = 0.5# amount of overlapping\n",
    "apshift = d*(1-overlap) # distance between the aperture positions\n",
    "energy = 12.4 # in keV\n",
    "wavelen = (12.4e-10/energy) # in m\n",
    "z = 10 # distance of propagation in m"
   ]
  },
  {
   "cell_type": "markdown",
   "metadata": {},
   "source": [
    "## Loading image data\n",
    "\n",
    "We will use a fluorescence image of a cell obtained from http://rsb.info.nih.gov/ij/images/FluorescentCells.jpg.\n",
    "If you have internet connection, you can download the data from the website (method 1 below), otherwise, you can use the local file named \"**FluorescentCells_201.jpg**\" (method 2 below)."
   ]
  },
  {
   "cell_type": "code",
   "execution_count": null,
   "metadata": {},
   "outputs": [],
   "source": [
    "## method 1: load image from file\n",
    "image = plt.imread('FluorescentCells_201.jpg')\n",
    "## method 2: if you have access to internet, you can access it directly from URL\n",
    "#image = imread(\"http://rsb.info.nih.gov/ij/images/FluorescentCells.jpg\")\n",
    "#image = resize(image,(201,201)) #Image resized to 201x201 pixel\n",
    "\n",
    "# convert to HSV color scheme\n",
    "image_hsv = color.rgb2hsv(image)\n",
    "\n",
    "# creating amplitude and phase\n",
    "datamp = np.squeeze(image_hsv[:,:,2])\n",
    "datphase = 2*np.pi*np.squeeze(image_hsv[:,:,0])-np.pi\n",
    "#dat = np.flipud(datamp*np.exp(1j*datphase))\n",
    "dat = np.flipud(datamp*np.exp(1j*datphase))"
   ]
  },
  {
   "cell_type": "markdown",
   "metadata": {},
   "source": [
    "## Defining pixel size, length and source coordinates arrays"
   ]
  },
  {
   "cell_type": "code",
   "execution_count": null,
   "metadata": {},
   "outputs": [],
   "source": [
    "# let us suppose we want a pixel size of 100 nm\n",
    "dx = 95e-9 # pixel size in meter\n",
    "M = image.shape[0] # number of pixels (supposing image is square)\n",
    "L = M*dx # width of the object\n",
    "x = np.arange(-L/2,L/2,dx) # source coordinates  #L/201) #np.arange(0,201)\n",
    "if x.shape[0]== M+1: x = x[:-1] # small correction for floating number rounding\n",
    "y = x # equal in both directions\n",
    "det_pixel = wavelen*z/L # detector pixel size for this simulation"
   ]
  },
  {
   "cell_type": "markdown",
   "metadata": {},
   "source": [
    "# Diplay original data in HSV representation"
   ]
  },
  {
   "cell_type": "code",
   "execution_count": null,
   "metadata": {},
   "outputs": [],
   "source": [
    "plt.close('all')\n",
    "fig1 = plt.figure(1,figsize=(8,8))\n",
    "plt.clf()\n",
    "ax1 = fig1.add_subplot(111)\n",
    "dathsv = np.zeros((dat.shape[0],dat.shape[1],3))\n",
    "dathsv[:,:,0] = (np.angle(dat)+np.pi)/(2*np.pi)\n",
    "dathsv[:,:,1] = np.ones((dat.shape[0],dat.shape[1]))\n",
    "dathsv[:,:,2] = np.abs(dat)\n",
    "ax1.imshow(color.hsv2rgb(dathsv),extent= [x.min()*1e6,x.max()*1e6,y.min()*1e6,y.max()*1e6])\n",
    "ax1.set_title('original object [hsv]',fontsize=24)\n",
    "ax1.tick_params(axis='both',which='major',labelsize=14)\n",
    "ax1.set_xlabel(r'x[$\\mu$m]',fontsize = 20)\n",
    "ax1.set_ylabel(r'y[$\\mu$m]',fontsize = 20)\n",
    "plt.show(block=False)"
   ]
  },
  {
   "cell_type": "markdown",
   "metadata": {},
   "source": [
    "## Sampling requirements\n",
    "Let us now check if the the **sampling requirements** have been respected:"
   ]
  },
  {
   "cell_type": "code",
   "execution_count": null,
   "metadata": {},
   "outputs": [],
   "source": [
    "print('Sampling pitch should be smaller than {:0.02f} microns'.format(1e6*wavelen*z/(2*d))) # how small the detector pixel should be\n",
    "print('The detector pixel size is {:0.02f} microns'.format(1e6*det_pixel))\n",
    "\n",
    "# sampling the joint real-reciprocal phase space of ptychography\n",
    "alpha = apshift/d # filling of the real space \n",
    "beta = (det_pixel*d)/(wavelen*z) # filling of the reciprocal space\n",
    "sampling_ratio = 1/(alpha*beta) # filling of the phase space (joint real-reciprocal space) without gap\n",
    "print('Alpha = {:0.04f}. It must be smaller than 1.'.format(alpha))\n",
    "print('Beta = {:0.04f}. It must be smaller than 1.'.format(beta))\n",
    "print('The sampling ratio is {:0.04f}. It must be larger than 2 in general.'.format(sampling_ratio))"
   ]
  },
  {
   "cell_type": "markdown",
   "metadata": {},
   "source": [
    "Also note that **Beta = 0.5** corresponds to the CDI oversampling rule of having at least two pixels per speckle. Althought it should not work for CDI, a Beta larger than 0.5 (and smaller thant 1) can work for ptychography, given that the **sampling ratio** is still larger than 2. "
   ]
  },
  {
   "cell_type": "markdown",
   "metadata": {},
   "source": [
    "# Defining the 9 positions for PIE simulations"
   ]
  },
  {
   "cell_type": "code",
   "execution_count": null,
   "metadata": {},
   "outputs": [],
   "source": [
    "xp,yp = np.zeros((2,9))\n",
    "xp[0] = -(apshift)\n",
    "xp[1] = +(apshift)\n",
    "xp[2] = 0\n",
    "xp[3] = 0\n",
    "xp[4] = -(apshift)\n",
    "xp[5] = -(apshift)\n",
    "xp[6] = +(apshift)\n",
    "xp[7] = +(apshift)\n",
    "xp[8] = 0\n",
    "yp[0] = 0\n",
    "yp[1] = 0\n",
    "yp[2] = +(apshift)\n",
    "yp[3] = -(apshift)\n",
    "yp[4] = -(apshift)\n",
    "yp[5] = +(apshift)\n",
    "yp[6] = +(apshift)\n",
    "yp[7] = -(apshift)\n",
    "yp[8] = 0"
   ]
  },
  {
   "cell_type": "markdown",
   "metadata": {},
   "source": [
    "# Creating an illumination function as unpropagated waves from a pinhole"
   ]
  },
  {
   "cell_type": "code",
   "execution_count": null,
   "metadata": {},
   "outputs": [],
   "source": [
    "def illumination(X,Y,xp,yp):\n",
    "    \"\"\"\n",
    "    Function to create a round aperture\n",
    "    \"\"\"\n",
    "    rad = np.sqrt((X-xp)**2+(Y-yp)**2)\n",
    "    p = np.zeros_like(rad)\n",
    "    p[np.where(rad<d/2.0)]=1.0\n",
    "    p[np.where(rad==d/2.0)]=0.5\n",
    "    return p\n",
    "\n",
    "X,Y = np.meshgrid(x,y)\n",
    "probe0 = illumination(X,Y,0,0) # probe at the center to initialize array\n",
    "probe = np.zeros((xp.shape[0],probe0.shape[0],probe0.shape[1])).astype(complex)\n",
    "\n",
    "# creating the probes at the scan positions\n",
    "for ii in range(xp.shape[0]):\n",
    "    probe[ii] = illumination(X,Y,xp[ii],yp[ii]).astype(complex)\n",
    "\n",
    "# Display the probe at the center\n",
    "fig2 = plt.figure(2,figsize=(8,8))\n",
    "ax2 = fig2.add_subplot(111)\n",
    "im2 = ax2.imshow(probe0,cmap='gray',extent = [x.min()*1e6,x.max()*1e6,y.min()*1e6,y.max()*1e6])\n",
    "ax2.tick_params(axis='both',which='major',labelsize=14)\n",
    "ax2.set_xlabel(r'x[$\\mu$m]',fontsize = 20)\n",
    "ax2.set_ylabel(r'y[$\\mu$m]',fontsize = 20)\n",
    "plt.title('Probe at the central position')\n",
    "plt.show(block=False)"
   ]
  },
  {
   "cell_type": "markdown",
   "metadata": {},
   "source": [
    "# Simulating diffraction patterns"
   ]
  },
  {
   "cell_type": "code",
   "execution_count": null,
   "metadata": {},
   "outputs": [],
   "source": [
    "## settings of the Fourier space\n",
    "fx = np.arange(-1/(2*dx),1/(2*dx),1/L) # Fourier space frequencies (1/L=det_pixel/(wavelen*z))\n",
    "fy = fx # supposing square diffraction patterns\n",
    "\n",
    "# initializing variables\n",
    "img0 = np.fft.ifftshift(np.fft.fft2(np.fft.fftshift(probe[0]*dat))) # first image to obtain size\n",
    "dp_exp = np.zeros((xp.shape[0],img0.shape[0],img0.shape[1])) # diffration pattern array\n",
    "\n",
    "# preparing figure canvas\n",
    "eps=0.1 # small quantity to prevent 0 in the logarithm\n",
    "fig3 = plt.figure(3,figsize = (8,8))\n",
    "ax3 = fig3.add_subplot(111)\n",
    "im3 = ax3.imshow(np.log(np.abs(img0**2+eps)),extent=[np.min(fy)*1e-6,np.max(fy)*1e-6,np.min(fy)*1e-6,np.max(fy)*1e-6],cmap='jet',vmin=0)\n",
    "ax3.set_xlabel(r'$f_x [\\mu m^{-1}$]',fontsize = 24)\n",
    "ax3.set_ylabel(r'$f_x [\\mu m^{-1}$]',fontsize = 24)\n",
    "ax3.tick_params(axis='both',which='major',labelsize=18)\n",
    "# loop over the 9 positions\n",
    "for ii in range(xp.shape[0]):\n",
    "    psi = probe[ii]*dat\n",
    "    sim = np.fft.fft2(np.fft.fftshift(psi))\n",
    "    dp_exp[ii] = np.abs(sim)\n",
    "    amplitudes=np.fft.ifftshift(dp_exp[ii])\n",
    "    ints=np.abs(amplitudes)**2\n",
    "    im3.set_data(np.log(ints+eps))\n",
    "    ax3.set_title('Diffraction Pattern  I(q). Position: {}'.format(ii+1),fontsize=18)\n",
    "    display.display(plt.gcf())\n",
    "    display.clear_output(wait=True)\n",
    "    time.sleep(0.5)"
   ]
  },
  {
   "cell_type": "markdown",
   "metadata": {},
   "source": [
    "We can see that the Nyquist frequency is $f_{Nyquist}= \\frac{1}{2 \\Delta x}$, and thus the pixel size of the reconstructed image $\\Delta x$ in the real scape will be $\\Delta x = \\frac{1}{2 f_{Nyquist}}$. This is also equivalent to $\\Delta x = \\frac{\\lambda z}{M \\Delta p_{det}}$, where $\\lambda$ is the wavelength, z is the propagation distance, and $\\Delta p_{det}$ is the physical detector pixel size."
   ]
  },
  {
   "cell_type": "code",
   "execution_count": null,
   "metadata": {},
   "outputs": [],
   "source": [
    "fNyquist = 1/(2*dx) # Nyquist Frequency\n",
    "print(r\"The Nyquist frequency is {:0.01f} inverse microns\".format(fNyquist*1e-6))\n",
    "# calculate the pixel size of the reconstructed image\n",
    "dxrecons1 = 1/(2*fNyquist) # method 1\n",
    "dxrecons2 = wavelen*z/(M*det_pixel) # method 2\n",
    "print(\"The pixel size of the reconstruction is (as expected):\")\n",
    "print('dxrecons1 = {:0.01e} and dxrecons2 = {:0.01e}'.format(dxrecons1,dxrecons2))\n",
    "print('which is the pixel size we have chosen at the beggining for this simulation')"
   ]
  },
  {
   "cell_type": "markdown",
   "metadata": {},
   "source": [
    "## The Ptychographic Iterative Engine (PIE)"
   ]
  },
  {
   "cell_type": "code",
   "execution_count": null,
   "metadata": {},
   "outputs": [],
   "source": [
    "plt.close('all')\n",
    "# settings for the PIE\n",
    "numIter = 150 # number of PIE loops\n",
    "eps = 1e-4 # Paramenter that control the stability of the algorithm\n",
    "ferr = 1 # Parameter of the error function\n",
    "\n",
    "## initial guess for object\n",
    "np.random.seed(1) # to keep the same seed if you run the code twice\n",
    "obj_sample = np.random.rand(image.shape[0],image.shape[1]).astype(np.complex)\n",
    "# uncomment the line below if you want to initialize obj with ones\n",
    "#obj_sample = np.ones((image.shape[0],image.shape[1])).astype(np.complex)\n",
    "\n",
    "## Ptychographic Iterative Engine (PIE) loop\n",
    "err = np.zeros(xp.shape[0])\n",
    "avgerr = np.zeros(numIter)\n",
    "fig4 = plt.figure(4,figsize=(8,8))\n",
    "ax4 = fig4.add_subplot(111)\n",
    "r,c,z = dathsv.shape\n",
    "objecthsv = np.zeros((obj_sample.shape[0],dat.shape[1],3))\n",
    "im4 = ax4.imshow(color.hsv2rgb(objecthsv),extent= [x.min()*1e6,x.max()*1e6,y.min()*1e6,y.max()*1e6])\n",
    "ax4.tick_params(axis='both',which='major',labelsize=14)\n",
    "ax4.set_xlabel(r'x [$\\mu$m]',fontsize = 20)\n",
    "ax4.set_ylabel(r'y [$\\mu$m]',fontsize = 20)\n",
    "for ii in range(numIter):\n",
    "    t0 = time.time()\n",
    "    ## loop over the 9 positions\n",
    "    for pos in range(xp.shape[0]):\n",
    "        # multiply probe and sample\n",
    "        obj = probe[pos]*obj_sample\n",
    "        #------------------------\n",
    "        objnew = np.fft.ifft2(dp_exp[pos]*np.exp(1j*np.angle(np.fft.fft2(obj)))) # amplitude constraint\n",
    "        #------------------------\n",
    "        deno = np.conj(probe[pos])*probe[pos]+eps\n",
    "        update_function = np.conj(probe[pos])*np.abs(probe[pos])/deno # update function\n",
    "        #------------------------\n",
    "        object_new = obj_sample + ferr*update_function*(objnew-obj) # overlap constraint\n",
    "        obj_sample = object_new\n",
    "        #------------------------\n",
    "        err[pos] = np.sum(dp_exp[pos]**2 - (np.abs(np.fft.fft2(obj)))**2)**2/(image.shape[0]**2)\n",
    "    tf = time.time()\n",
    "    avgerr[ii] = err.mean() #calculate average error\n",
    "    ## display retrieved object in hsv representation\n",
    "    objecthsv[:,:,0] = (np.angle(obj_sample*np.exp(1j*1*np.pi))+np.pi+1)/(2*np.pi)\n",
    "    objecthsv[:,:,1] = np.ones((obj_sample.shape[0],obj_sample.shape[1]))\n",
    "    objecthsv[:,:,2] = np.abs(obj_sample) - (0.5+0.5*np.sign(np.abs(obj_sample)-1))*(np.abs(obj_sample)-1)\n",
    "    im4.set_data(color.hsv2rgb(objecthsv))\n",
    "    ax4.set_title('PIE Iteration: {} ({:0.02f}s). Average error: {:0.02e}'.format(ii+1,tf-t0,avgerr[ii]),fontsize = 18)\n",
    "    display.display(plt.gcf())\n",
    "    display.clear_output(wait=True)\n",
    "    time.sleep(0.0001)"
   ]
  },
  {
   "cell_type": "code",
   "execution_count": null,
   "metadata": {},
   "outputs": [],
   "source": [
    "# plot result and errors\n",
    "fig5 = plt.figure(5,figsize=(12,6))\n",
    "ax51 = fig5.add_subplot(121)\n",
    "ax51.imshow(color.hsv2rgb(objecthsv),extent= [x.min()*1e6,x.max()*1e6,y.min()*1e6,y.max()*1e6])\n",
    "ax51.set_title('Results from PIE',fontsize=18)\n",
    "ax51.set_xlabel(r'x [$\\mu$m]',fontsize = 20)\n",
    "ax51.set_ylabel(r'y [$\\mu$m]',fontsize = 20)\n",
    "ax51.tick_params(axis='both',which='major',labelsize=14)\n",
    "ax52 = fig5.add_subplot(122)\n",
    "ax52.plot(np.log10(avgerr))\n",
    "ax52.set_title('log10 of average error',fontsize=18)\n",
    "ax52.set_xlabel('PIE ierations',fontsize = 18)\n",
    "ax52.set_ylabel('log10(error)',fontsize = 18)\n",
    "ax52.tick_params(axis='both',which='major',labelsize=14)\n",
    "plt.tight_layout()\n",
    "plt.show(block=False)"
   ]
  },
  {
   "cell_type": "markdown",
   "metadata": {},
   "source": [
    "## Congratulations, you have performed the simulation of a ptychography experiment. Well done!"
   ]
  },
  {
   "cell_type": "code",
   "execution_count": null,
   "metadata": {},
   "outputs": [],
   "source": []
  }
 ],
 "metadata": {
  "kernelspec": {
   "display_name": "Python 3",
   "language": "python",
   "name": "python3"
  },
  "language_info": {
   "codemirror_mode": {
    "name": "ipython",
    "version": 3
   },
   "file_extension": ".py",
   "mimetype": "text/x-python",
   "name": "python",
   "nbconvert_exporter": "python",
   "pygments_lexer": "ipython3",
   "version": "3.9.1"
  }
 },
 "nbformat": 4,
 "nbformat_minor": 4
}
