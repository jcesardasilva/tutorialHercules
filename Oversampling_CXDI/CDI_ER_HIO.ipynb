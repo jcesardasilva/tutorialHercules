{
 "cells": [
  {
   "cell_type": "markdown",
   "metadata": {
    "raw_mimetype": "text/markdown"
   },
   "source": [
    "# Tutorial isolated-specimen coherent X-ray diffraction imaging (CDI)\n",
    "\n",
    "### Tutor: Julio C. da Silva (Néel Institute CNRS, Grenoble, France) /  email: julio-cesar.da-silva@neel.cnrs.fr\n",
    "#### Personal webpage: https://sites.google.com/view/jcesardasilva\n",
    "\n",
    "##### Disclaimer: This notebook is intended from educational reasons only and should not be use for professional data analysis. For the latter, there are other more efficient and complete codes available.\n",
    "\n",
    "This code run in **Python3** and requires certain python packages, which are: **Numpy, IPython, Matplotlib, Scipy**\n",
    "\n",
    "If you do not have those packages, I suggest their installation via pip install: \n",
    "\n",
    "    pip3 install numpy, ipython, matplotlib, scipy"
   ]
  },
  {
   "cell_type": "markdown",
   "metadata": {},
   "source": [
    "## CDI Phase Retrieval\n",
    "This code is inspired by the \"Tutorial in Diffraction Imaging\" by Gösta Huldt and Filipe Maia (originally in MATLAB), which was available until recenlty at http://xray.bmc.uu.se/~ekeberg/molbiofys/tutorial.pdf."
   ]
  },
  {
   "cell_type": "code",
   "execution_count": null,
   "metadata": {
    "tags": []
   },
   "outputs": [],
   "source": [
    "#%matplotlib inline\n",
    "# standard python packages\n",
    "import time\n",
    "\n",
    "# third party packages\n",
    "from IPython import display\n",
    "import matplotlib.pyplot as plt\n",
    "from mpl_toolkits.mplot3d import axes3d \n",
    "import numpy as np\n",
    "from scipy.fft import fft2, ifft2, fftshift, ifftshift\n",
    "import scipy.io as sio\n",
    "\n",
    "# local packages\n",
    "from tutorial_tools import getViolations"
   ]
  },
  {
   "cell_type": "markdown",
   "metadata": {},
   "source": [
    "## Load data for the calculations\n",
    "To facilitate the calculations, we will load the data from files. You can use the files I provide or you can your own intensities previously save to file."
   ]
  },
  {
   "cell_type": "code",
   "execution_count": null,
   "metadata": {
    "tags": []
   },
   "outputs": [],
   "source": [
    "## load .npy file\n",
    "obj_ints = np.load('myints.npy') # load intensity\n",
    "rho_original = np.load('myrho.npy') # load rho of the sample\n",
    "# apodization of the Fourier transform to avoid problem with the edges\n",
    "window = np.outer(np.hanning(obj_ints.shape[0]),np.hanning(obj_ints.shape[0])) # hanning window to smooth edges\n",
    "obj_ints *= window # to smooth the high frequencies and avoid problem with the edges\n",
    "\n",
    "# creating the support. Since we already know rho, we will cheat here for the moment\n",
    "obj_support = rho_original>0.01 # keep only the values above 0.01. \n",
    "\n",
    "# display intensity and support\n",
    "eps=0.001\n",
    "fig1 = plt.figure(1,figsize = (16,10))\n",
    "ax11 = fig1.add_subplot(121)\n",
    "ax11.imshow(np.log(obj_ints+eps),cmap='jet',origin='lower')\n",
    "ax11.set_title('Intensity',fontsize=20)\n",
    "ax12 = fig1.add_subplot(122)\n",
    "ax12.imshow(obj_support,cmap='jet',origin='lower')\n",
    "ax12.set_title('Support',fontsize=20)\n",
    "plt.show(block=False)"
   ]
  },
  {
   "cell_type": "markdown",
   "metadata": {},
   "source": [
    "## First algorithm: Error reduction (ER)"
   ]
  },
  {
   "cell_type": "code",
   "execution_count": null,
   "metadata": {
    "tags": []
   },
   "outputs": [],
   "source": [
    "# Number of iterations\n",
    "numIter = 100\n",
    "\n",
    "# support\n",
    "support = obj_support.copy()\n",
    "# intensities\n",
    "ints = obj_ints.copy()\n",
    "# Obtaining the amplitude from the intensity\n",
    "amplitudes = np.sqrt(ints)\n",
    "# first guess of the sample\n",
    "rho = support.copy()*np.ones_like(ints) # with ones within the support\n",
    "#np.random.seed(10) # to keep the same seed if you run the code twice\n",
    "#rho = support.copy()*np.random.rand(ints.shape[0],ints.shape[1]) # with random numbers within the support\n",
    "# shifting the function for the Discrete Fourier Transform\n",
    "amplitudes = ifftshift(amplitudes)\n",
    "support = ifftshift(support)\n",
    "rho = ifftshift(rho)\n",
    "\n",
    "## ER main loop\n",
    "E = np.zeros(numIter)# initializing the error function \n",
    "fig1 = plt.figure(1,figsize=(8,8))\n",
    "ax1 = fig1.add_subplot(111)\n",
    "im1 = ax1.imshow(np.real(fftshift(rho)),cmap='jet',origin='lower',vmin=0,vmax=0.3)\n",
    "for ii in range(numIter):\n",
    "    t0 = time.time()\n",
    "    F = fft2(rho) # Discret Fourier Transform of the initial guess\n",
    "    phases = np.angle(F) # keep random phases\n",
    "    #-----------------------------------\n",
    "    F = amplitudes*np.exp(1j*phases) # replace experimental amplitudes\n",
    "    #-----------------------------------\n",
    "    rho = ifft2(F) # Inverse Fourier transform of the current results\n",
    "    E[ii] = np.sum(np.abs(rho[np.where(support==0)])**2)\n",
    "    tf = time.time()\n",
    "    # display figures\n",
    "    im1.set_data(np.real(fftshift(rho)))\n",
    "    ax1.set_title('ER Iteration: {} ({:0.03f}s). Error: {}'.format(ii+1,tf-t0,E[ii]),fontsize=18)\n",
    "    display.display(ax1.get_figure())\n",
    "    display.clear_output(wait=True)\n",
    "    time.sleep(0.001)\n",
    "    #------------------------------------\n",
    "    rho = rho*support # support constraint\n",
    "    rho[np.where(np.real(rho)<0)]=0 # positivity constraint\n",
    "    #------------------------------------"
   ]
  },
  {
   "cell_type": "code",
   "execution_count": null,
   "metadata": {
    "tags": []
   },
   "outputs": [],
   "source": [
    "# plot results and errors\n",
    "creg = 100 # amount of pixel to crop at each border for zooming in \n",
    "fig2 = plt.figure(2,figsize=(12,6))\n",
    "ax21 = fig2.add_subplot(121)\n",
    "ax21.imshow(np.real(fftshift(rho))[creg:-creg,creg:-creg],cmap='jet',origin='lower')#,vmin=0,vmax=0.2)\n",
    "ax21.set_title('Results from ER (zoomed in)',fontsize=18)\n",
    "ax21.set_axis_off()\n",
    "ax22 = fig2.add_subplot(122)\n",
    "ax22.plot(np.log10(E))\n",
    "ax22.set_title('log10 of average reciprocal space error',fontsize=18)\n",
    "ax22.set_xlabel('ER iterations',fontsize = 18)\n",
    "ax22.set_ylabel('log10(error)',fontsize = 18)\n",
    "ax22.tick_params(axis='both',which='major',labelsize=14)\n",
    "plt.tight_layout()\n",
    "plt.show(block=False)"
   ]
  },
  {
   "cell_type": "markdown",
   "metadata": {},
   "source": [
    "## Obtaining the support from autocorrelation of the intensities"
   ]
  },
  {
   "cell_type": "code",
   "execution_count": null,
   "metadata": {
    "tags": []
   },
   "outputs": [],
   "source": [
    "# Intensity\n",
    "ints = obj_ints\n",
    "# calculate the autocorrelation function to obtain the object support\n",
    "autocorrelation = fftshift(np.abs(ifft2(ints)))\n",
    "# sample support based on the autocorrelation \n",
    "support = autocorrelation>0.1*autocorrelation.max()\n",
    "\n",
    "# display figure with the support\n",
    "fig3 = plt.figure(3,figsize=(8,8))\n",
    "ax3 = fig3.add_subplot(111)\n",
    "ax3.imshow(support.astype(int),cmap='gray',origin='lower')\n",
    "ax3.set_title('Support from autocorrelation',fontsize=18)\n",
    "ax3.set_axis_off()\n",
    "plt.show(block=False)"
   ]
  },
  {
   "cell_type": "markdown",
   "metadata": {},
   "source": [
    "## Second algorithm: Hybrid Input-Output (HIO) using support from autocorrelation"
   ]
  },
  {
   "cell_type": "code",
   "execution_count": null,
   "metadata": {
    "tags": []
   },
   "outputs": [],
   "source": [
    "## Settings \n",
    "numIter = 150 # Number of iterations\n",
    "beta = 1.0 # beta factor -> parameter of the HIO error function\n",
    "\n",
    "## sample support based on the autocorrelation (repeating here for convenience)\n",
    "support = autocorrelation>0.1*autocorrelation.max()\n",
    "## support = matsup['support'] # uncomment this line if you want to try this support\n",
    "# Obtaining the amplitude from the intensity\n",
    "amplitudes = np.sqrt(ints)\n",
    "# first guess of the sample\n",
    "np.random.seed(10) # to keep the same seed if you run the code twice\n",
    "rho = support.copy()*np.random.rand(ints.shape[0],ints.shape[1])\n",
    "#rho = support.copy()*np.ones_like(ints)\n",
    "# shifting the function for the Discrete Fourier Transform\n",
    "amplitudes = fftshift(amplitudes)\n",
    "support = fftshift(support)\n",
    "rho = fftshift(rho)\n",
    "\n",
    "## HIO main loop\n",
    "E = np.zeros(numIter) # initializing the error function \n",
    "fig4 = plt.figure(4,figsize=(8,8))\n",
    "plt.clf()\n",
    "ax4 = fig4.add_subplot(111)\n",
    "im4 = ax4.imshow(np.real(fftshift(rho)),cmap='jet',origin='lower',vmin=0,vmax=0.3)\n",
    "rho1 = rho.copy() # renaming variable for organization\n",
    "for ii in range(numIter):\n",
    "    t0 = time.time()\n",
    "    F = fft2(rho1) # Discret Fourier Transform of the initial guess\n",
    "    phases = np.angle(F) # keep random phases\n",
    "    #--------------------------------------------\n",
    "    F = amplitudes*np.exp(1j*phases) # replace experimental amplitudes\n",
    "    #--------------------------------------------\n",
    "    rho2 = ifft2(F) # Inverse Fourier transform of the current results\n",
    "    violations = getViolations(rho2, support)   # get indices where constraints are violated\n",
    "    E[ii] = np.sum(np.abs(rho2[violations])**2) # error function\n",
    "    rho3 = rho2.copy() # initializing rho3\n",
    "    #--------------------------------------------\n",
    "    # HIO constraints\n",
    "    rho3[violations] = rho1[violations] - beta*rho2[violations]  # give those violation areas a new value\n",
    "    rho3[np.where(np.real(rho3)<0)]=0 # positivity constraint\n",
    "    #--------------------------------------------\n",
    "    rho1 = rho3     # updating current guess of the object\n",
    "    tf = time.time()\n",
    "    # display figures\n",
    "    im4.set_data(np.real(fftshift(rho1)))\n",
    "    ax4.set_title('HIO Iteration: {} ({:0.03f}s). Error:{}'.format(ii+1,tf-t0,E[ii]),fontsize=18)\n",
    "    display.display(plt.gcf())\n",
    "    display.clear_output(wait=True)\n",
    "    time.sleep(0.0001)"
   ]
  },
  {
   "cell_type": "code",
   "execution_count": null,
   "metadata": {
    "tags": []
   },
   "outputs": [],
   "source": [
    "creg = 100 # amount of pixel to crop at each border for zooming in \n",
    "# plot results and error\n",
    "fig5 = plt.figure(5,figsize=(12,6))\n",
    "ax51 = fig5.add_subplot(121)\n",
    "ax51.imshow(np.real(fftshift(rho1))[creg:-creg,creg:-creg],cmap='jet',origin='lower',vmin=0)\n",
    "ax51.set_title('Results from ER (zoomed in)',fontsize=18)\n",
    "ax51.set_axis_off()\n",
    "ax52 = fig5.add_subplot(122)\n",
    "ax52.plot(np.log10(E))\n",
    "ax52.set_title('log10 of average reciprocal space error',fontsize=18)\n",
    "ax52.set_xlabel('HIO ierations',fontsize = 18)\n",
    "ax52.set_ylabel('log10(error)',fontsize = 18)\n",
    "ax52.tick_params(axis='both',which='major',labelsize=14)\n",
    "plt.tight_layout()\n",
    "plt.show(block=False)"
   ]
  },
  {
   "cell_type": "markdown",
   "metadata": {},
   "source": [
    "## Congratulations! You have perform the CDI phase retrieval using ER and HIO algorithms"
   ]
  },
  {
   "cell_type": "code",
   "execution_count": null,
   "metadata": {},
   "outputs": [],
   "source": []
  }
 ],
 "metadata": {
  "celltoolbar": "Raw Cell Format",
  "kernelspec": {
   "display_name": "Python 3 (ipykernel)",
   "language": "python",
   "name": "python3"
  },
  "language_info": {
   "codemirror_mode": {
    "name": "ipython",
    "version": 3
   },
   "file_extension": ".py",
   "mimetype": "text/x-python",
   "name": "python",
   "nbconvert_exporter": "python",
   "pygments_lexer": "ipython3",
   "version": "3.11.8"
  }
 },
 "nbformat": 4,
 "nbformat_minor": 4
}
