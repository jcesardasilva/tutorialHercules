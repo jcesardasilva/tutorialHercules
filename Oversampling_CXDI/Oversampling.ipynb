{
 "cells": [
  {
   "cell_type": "markdown",
   "metadata": {},
   "source": [
    "# Tutorial oversampling of speckle patterns\n",
    "\n",
    "### Tutor: Julio C. da Silva (Néel Institute CNRS, Grenoble, France) /  email: julio-cesar.da-silva@neel.cnrs.fr\n",
    "#### Personal webpage: https://sites.google.com/view/jcesardasilva\n",
    "\n",
    "##### Disclaimer: This notebook is intended from educational reasons only and should not be use for professional data analysis. For the latter, there are other more efficient and complete codes available. \n",
    "\n",
    "This code run in **Python3** and requires certain python packages, which are: **Numpy, IPython, Matplotlib, Scikit-Image**\n",
    "\n",
    "If you do not have those packages, I suggest their installation via pip install: \n",
    "\n",
    "    pip3 install numpy, ipython, matplotlib, scikit-image"
   ]
  },
  {
   "cell_type": "markdown",
   "metadata": {},
   "source": [
    "## Oversampling the speckle patterns\n",
    "This code is inspired by the \"Tutorial in Diffraction Imaging\" by Gösta Huldt and Filipe Maia (originally in MATLAB), which was available until recenlty at http://xray.bmc.uu.se/~ekeberg/molbiofys/tutorial.pdf."
   ]
  },
  {
   "cell_type": "code",
   "execution_count": null,
   "metadata": {
    "tags": []
   },
   "outputs": [],
   "source": [
    "#%matplotlib inline\n",
    "#%matploblib notebook # uncomment this line if you want to \"manipulate\" the images\n",
    "# standard python packages\n",
    "import time\n",
    "\n",
    "# third party packages\n",
    "from IPython import display\n",
    "import matplotlib.pyplot as plt\n",
    "from mpl_toolkits.mplot3d import axes3d \n",
    "import numpy as np\n",
    "from scipy.fft import fft2, ifft2, fftshift, ifftshift\n",
    "from skimage.restoration import unwrap_phase\n",
    "\n",
    "# local packages\n",
    "from tutorial_tools import drawmol, pdbreadatom, moltrans"
   ]
  },
  {
   "cell_type": "markdown",
   "metadata": {},
   "source": [
    "## Let's use the molecule of caffeine as sample"
   ]
  },
  {
   "cell_type": "code",
   "execution_count": null,
   "metadata": {
    "tags": []
   },
   "outputs": [],
   "source": [
    "molecule = 'caffeine.pdb'\n",
    "#molecule = 'lysozyme.pdb' # if you have enough RAM memory, you can try this one\n",
    "\n",
    "# load the molecule coordinate\n",
    "atom = pdbreadatom(molecule) # the coordinates are given in Angstrom\n",
    "# finding the size of the object (molecule)\n",
    "minsize = atom['crd'].min()\n",
    "maxsize = atom['crd'].max()\n",
    "# display molecule\n",
    "drawmol(atom,backgroundColor='grey')\n",
    "molsize = 2*np.max((minsize,maxsize)) # size image containing the molecule\n",
    "print('The size of the support of the molecule is about {} Angstrom'.format(molsize))"
   ]
  },
  {
   "cell_type": "markdown",
   "metadata": {},
   "source": [
    "## Oversampling Speckle patterns"
   ]
  },
  {
   "cell_type": "code",
   "execution_count": null,
   "metadata": {
    "tags": []
   },
   "outputs": [],
   "source": [
    "# Parameters (simplified for convenience)\n",
    "overf = 6 # oversampling factor\n",
    "step=1/(overf*molsize) # Distance between samples in the Fourier space\n",
    "cutOff = 4  # Frequency cutoff (maximun frequency you can acquire on the detector)\n",
    "\n",
    "## sampling the reciprocal space\n",
    "h = np.arange(-cutOff, cutOff, step) # h-axis\n",
    "k = h # k-axis (supposing square arrays)\n",
    "H,K = np.meshgrid(h,k) # Construct a two-dimensional grid.\n",
    "L = np.zeros_like(K)\n",
    "\n",
    "# Fourier transform of the molecule taking into account\n",
    "# the scattering factor of each atom\n",
    "F_original = moltrans(atom, H,K,L)"
   ]
  },
  {
   "cell_type": "markdown",
   "metadata": {},
   "source": [
    "## Since we can only acquire Intensity, we lose the phases"
   ]
  },
  {
   "cell_type": "code",
   "execution_count": null,
   "metadata": {
    "tags": []
   },
   "outputs": [],
   "source": [
    "# Convert to intensity\n",
    "ints = np.abs(F_original)**2 # we lose the phases\n",
    "\n",
    "# display the Fourier transform\n",
    "eps = 0.01 # small value to prevent zeros in the log\n",
    "fig2 = plt.figure(2,figsize=(16,8))\n",
    "ax21 = fig2.add_subplot(121)\n",
    "ax21.imshow(np.log(ints+eps),cmap='jet',origin='lower')\n",
    "ax21.set_title('Intensity',fontsize = 20)\n",
    "plt.axis('off')\n",
    "ax22 = fig2.add_subplot(122)\n",
    "ax22.imshow(np.angle(ints),cmap='jet',origin='lower')\n",
    "ax22.set_title('We lost the phases!!! :(',fontsize = 20)\n",
    "plt.axis('off')\n",
    "plt.show(block=False)"
   ]
  },
  {
   "cell_type": "markdown",
   "metadata": {},
   "source": [
    "## The ground truth image"
   ]
  },
  {
   "cell_type": "code",
   "execution_count": null,
   "metadata": {
    "tags": []
   },
   "outputs": [],
   "source": [
    "# calculate the electron density\n",
    "rho_original = fftshift(np.abs(ifft2(F_original)))\n",
    "\n",
    "# Create vectors for the x and y coordinates.\n",
    "x=np.linspace(0,1-1/rho_original.shape[1],rho_original.shape[1])/step\n",
    "y=np.linspace(0,1-1/rho_original.shape[0],rho_original.shape[0])/step\n",
    "x = x-x.mean()\n",
    "y = y-y.mean()\n",
    "# Draw the image.\n",
    "fig3 = plt.figure(3,figsize=(16,6))\n",
    "ax31 = fig3.add_subplot(131)\n",
    "ax31.imshow(rho_original,extent=[x.min(),x.max(),y.min(),y.max()],cmap='jet', origin='lower')\n",
    "#ax31.axis([-5,5,-5,5]) # to zoom in, uncomment this line\n",
    "ax31.set_title('Original electron density',fontsize = 18)\n",
    "ax31.set_xlabel('x (Angstrom)',fontsize = 18)\n",
    "ax31.set_ylabel('y (Angstrom)',fontsize = 18)\n",
    "ax31.tick_params(axis='both',which='major',labelsize=16)\n",
    "ax32 = fig3.add_subplot(132)\n",
    "ax32.imshow(np.log(np.abs(F_original)+eps),cmap='jet',origin='lower')\n",
    "ax32.set_title('Original amplitude',fontsize = 18)\n",
    "ax32.set_axis_off()\n",
    "ax33 = fig3.add_subplot(133)\n",
    "ax33.imshow(np.angle(F_original),cmap='jet',origin='lower')\n",
    "ax33.set_title('Original phases ',fontsize = 18)\n",
    "ax33.set_axis_off()\n",
    "# uncomment line below if you want to check the atoms' coordinates match the plot\n",
    "#plt.plot(atom['x'],atom['y'],'o')\n",
    "plt.tight_layout()\n",
    "plt.show(block=False)\n",
    "plt.close('all')"
   ]
  },
  {
   "cell_type": "markdown",
   "metadata": {},
   "source": [
    "### Let us save the intensity and rho to a file for later use"
   ]
  },
  {
   "cell_type": "code",
   "execution_count": null,
   "metadata": {
    "tags": []
   },
   "outputs": [],
   "source": [
    "# Let us save this into a .npy file for later\n",
    "np.save('myints',ints)\n",
    "# save it for latter use\n",
    "np.save('myrho.npy',(rho_original-rho_original.min())/(rho_original.max()-rho_original.min()))"
   ]
  },
  {
   "cell_type": "markdown",
   "metadata": {},
   "source": [
    "### Congratulations! You now know a bit about oversampling of speckles patterns."
   ]
  }
 ],
 "metadata": {
  "kernelspec": {
   "display_name": "Python 3 (ipykernel)",
   "language": "python",
   "name": "python3"
  },
  "language_info": {
   "codemirror_mode": {
    "name": "ipython",
    "version": 3
   },
   "file_extension": ".py",
   "mimetype": "text/x-python",
   "name": "python",
   "nbconvert_exporter": "python",
   "pygments_lexer": "ipython3",
   "version": "3.11.8"
  }
 },
 "nbformat": 4,
 "nbformat_minor": 4
}
